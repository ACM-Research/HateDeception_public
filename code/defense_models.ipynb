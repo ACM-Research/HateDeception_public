{
  "metadata": {
    "kernelspec": {
      "language": "python",
      "display_name": "Python 3",
      "name": "python3"
    },
    "language_info": {
      "pygments_lexer": "ipython3",
      "nbconvert_exporter": "python",
      "version": "3.6.4",
      "file_extension": ".py",
      "codemirror_mode": {
        "name": "ipython",
        "version": 3
      },
      "name": "python",
      "mimetype": "text/x-python"
    },
    "colab": {
      "provenance": []
    }
  },
  "nbformat_minor": 0,
  "nbformat": 4,
  "cells": [
    {
      "cell_type": "code",
      "source": [
        "# This Python 3 environment comes with many helpful analytics libraries installed\n",
        "# It is defined by the kaggle/python Docker image: https://github.com/kaggle/docker-python\n",
        "# For example, here's several helpful packages to load\n",
        "\n",
        "import numpy as np # linear algebra\n",
        "import pandas as pd # data processing, CSV file I/O (e.g. pd.read_csv)\n",
        "from collections import Counter\n",
        "\n",
        "import nltk\n",
        "from nltk.corpus import stopwords\n",
        "nltk.download('stopwords')\n",
        "nltk.download('punkt')\n",
        "from nltk.tokenize import word_tokenize\n",
        "# Input data files are available in the read-only \"../input/\" directory\n",
        "# For example, running this (by clicking run or pressing Shift+Enter) will list all files under the input directory\n",
        "\n",
        "#import os\n",
        "#for dirname, _, filenames in os.walk('/kaggle/input'):\n",
        "#    for filename in filenames:\n",
        "#        print(os.path.join(dirname, filename))\n",
        "\n",
        "# You can write up to 20GB to the current directory (/kaggle/working/) that gets preserved as output when you create a version using \"Save & Run All\" \n",
        "# You can also write temporary files to /kaggle/temp/, but they won't be saved outside of the current session"
      ],
      "metadata": {
        "_uuid": "8f2839f25d086af736a60e9eeb907d3b93b6e0e5",
        "_cell_guid": "b1076dfc-b9ad-4769-8c92-a6c4dae69d19",
        "execution": {
          "iopub.status.busy": "2023-03-06T17:57:59.517033Z",
          "iopub.execute_input": "2023-03-06T17:57:59.518300Z",
          "iopub.status.idle": "2023-03-06T17:57:59.536239Z",
          "shell.execute_reply.started": "2023-03-06T17:57:59.518189Z",
          "shell.execute_reply": "2023-03-06T17:57:59.534677Z"
        },
        "trusted": true,
        "id": "AvIXyOKtJsdp",
        "colab": {
          "base_uri": "https://localhost:8080/"
        },
        "outputId": "993265e7-75b6-4ae4-b6c9-1c183f1f96ab"
      },
      "execution_count": null,
      "outputs": [
        {
          "output_type": "stream",
          "name": "stderr",
          "text": [
            "[nltk_data] Downloading package stopwords to /root/nltk_data...\n",
            "[nltk_data]   Unzipping corpora/stopwords.zip.\n",
            "[nltk_data] Downloading package punkt to /root/nltk_data...\n",
            "[nltk_data]   Unzipping tokenizers/punkt.zip.\n"
          ]
        }
      ]
    },
    {
      "cell_type": "code",
      "source": [
        "#data = pd.read_csv(\"/kaggle/input/hate-speech-and-offensive-language-dataset/labeled_data.csv\")\n",
        "\n",
        "from google.colab import drive\n",
        "from google.colab import files\n",
        "drive.mount('/content/drive/')\n",
        "\n",
        "data = pd.read_csv(\"/content/drive/MyDrive/ACMResearch/changedData.csv\")\n",
        "\n",
        "df = pd.DataFrame(data) \n",
        "\n",
        "df.head()"
      ],
      "metadata": {
        "execution": {
          "iopub.status.busy": "2023-03-06T17:57:59.542054Z",
          "iopub.execute_input": "2023-03-06T17:57:59.542433Z",
          "iopub.status.idle": "2023-03-06T17:57:59.599761Z",
          "shell.execute_reply.started": "2023-03-06T17:57:59.542398Z",
          "shell.execute_reply": "2023-03-06T17:57:59.598814Z"
        },
        "trusted": true,
        "colab": {
          "base_uri": "https://localhost:8080/",
          "height": 548
        },
        "id": "Rbh4Dn4nJsdq",
        "outputId": "55b2e16d-dbda-4cb0-b3e6-c244fc7cd294"
      },
      "execution_count": null,
      "outputs": [
        {
          "output_type": "stream",
          "name": "stdout",
          "text": [
            "Mounted at /content/drive/\n"
          ]
        },
        {
          "output_type": "execute_result",
          "data": {
            "text/plain": [
              "   Unnamed: 0  count  hate_speech  offensive_language  neither  class  \\\n",
              "0           0      3            0                   0        3      2   \n",
              "1           1      3            0                   3        0      0   \n",
              "2           2      3            0                   3        0      0   \n",
              "3           3      3            0                   2        1      0   \n",
              "4           4      6            0                   6        0      0   \n",
              "\n",
              "                                               tweet  \n",
              "0  !!! RT @mayasolovely: As a woman you shouldn't...  \n",
              "1  !!!!! RT @mleew17: boy dats cold...tyga dwn ba...  \n",
              "2  !!!!!!! RT @UrKindOfBrand Dawg!!!! RT @80sbaby...  \n",
              "3  !!!!!!!!! RT @C_G_Anderson: @viva_based she lo...  \n",
              "4  !!!!!!!!!!!!! RT @ShenikaRoberts: The shit you...  "
            ],
            "text/html": [
              "\n",
              "  <div id=\"df-16b5b5c0-940c-4747-8f1d-e40c42995184\">\n",
              "    <div class=\"colab-df-container\">\n",
              "      <div>\n",
              "<style scoped>\n",
              "    .dataframe tbody tr th:only-of-type {\n",
              "        vertical-align: middle;\n",
              "    }\n",
              "\n",
              "    .dataframe tbody tr th {\n",
              "        vertical-align: top;\n",
              "    }\n",
              "\n",
              "    .dataframe thead th {\n",
              "        text-align: right;\n",
              "    }\n",
              "</style>\n",
              "<table border=\"1\" class=\"dataframe\">\n",
              "  <thead>\n",
              "    <tr style=\"text-align: right;\">\n",
              "      <th></th>\n",
              "      <th>Unnamed: 0</th>\n",
              "      <th>count</th>\n",
              "      <th>hate_speech</th>\n",
              "      <th>offensive_language</th>\n",
              "      <th>neither</th>\n",
              "      <th>class</th>\n",
              "      <th>tweet</th>\n",
              "    </tr>\n",
              "  </thead>\n",
              "  <tbody>\n",
              "    <tr>\n",
              "      <th>0</th>\n",
              "      <td>0</td>\n",
              "      <td>3</td>\n",
              "      <td>0</td>\n",
              "      <td>0</td>\n",
              "      <td>3</td>\n",
              "      <td>2</td>\n",
              "      <td>!!! RT @mayasolovely: As a woman you shouldn't...</td>\n",
              "    </tr>\n",
              "    <tr>\n",
              "      <th>1</th>\n",
              "      <td>1</td>\n",
              "      <td>3</td>\n",
              "      <td>0</td>\n",
              "      <td>3</td>\n",
              "      <td>0</td>\n",
              "      <td>0</td>\n",
              "      <td>!!!!! RT @mleew17: boy dats cold...tyga dwn ba...</td>\n",
              "    </tr>\n",
              "    <tr>\n",
              "      <th>2</th>\n",
              "      <td>2</td>\n",
              "      <td>3</td>\n",
              "      <td>0</td>\n",
              "      <td>3</td>\n",
              "      <td>0</td>\n",
              "      <td>0</td>\n",
              "      <td>!!!!!!! RT @UrKindOfBrand Dawg!!!! RT @80sbaby...</td>\n",
              "    </tr>\n",
              "    <tr>\n",
              "      <th>3</th>\n",
              "      <td>3</td>\n",
              "      <td>3</td>\n",
              "      <td>0</td>\n",
              "      <td>2</td>\n",
              "      <td>1</td>\n",
              "      <td>0</td>\n",
              "      <td>!!!!!!!!! RT @C_G_Anderson: @viva_based she lo...</td>\n",
              "    </tr>\n",
              "    <tr>\n",
              "      <th>4</th>\n",
              "      <td>4</td>\n",
              "      <td>6</td>\n",
              "      <td>0</td>\n",
              "      <td>6</td>\n",
              "      <td>0</td>\n",
              "      <td>0</td>\n",
              "      <td>!!!!!!!!!!!!! RT @ShenikaRoberts: The shit you...</td>\n",
              "    </tr>\n",
              "  </tbody>\n",
              "</table>\n",
              "</div>\n",
              "      <button class=\"colab-df-convert\" onclick=\"convertToInteractive('df-16b5b5c0-940c-4747-8f1d-e40c42995184')\"\n",
              "              title=\"Convert this dataframe to an interactive table.\"\n",
              "              style=\"display:none;\">\n",
              "        \n",
              "  <svg xmlns=\"http://www.w3.org/2000/svg\" height=\"24px\"viewBox=\"0 0 24 24\"\n",
              "       width=\"24px\">\n",
              "    <path d=\"M0 0h24v24H0V0z\" fill=\"none\"/>\n",
              "    <path d=\"M18.56 5.44l.94 2.06.94-2.06 2.06-.94-2.06-.94-.94-2.06-.94 2.06-2.06.94zm-11 1L8.5 8.5l.94-2.06 2.06-.94-2.06-.94L8.5 2.5l-.94 2.06-2.06.94zm10 10l.94 2.06.94-2.06 2.06-.94-2.06-.94-.94-2.06-.94 2.06-2.06.94z\"/><path d=\"M17.41 7.96l-1.37-1.37c-.4-.4-.92-.59-1.43-.59-.52 0-1.04.2-1.43.59L10.3 9.45l-7.72 7.72c-.78.78-.78 2.05 0 2.83L4 21.41c.39.39.9.59 1.41.59.51 0 1.02-.2 1.41-.59l7.78-7.78 2.81-2.81c.8-.78.8-2.07 0-2.86zM5.41 20L4 18.59l7.72-7.72 1.47 1.35L5.41 20z\"/>\n",
              "  </svg>\n",
              "      </button>\n",
              "      \n",
              "  <style>\n",
              "    .colab-df-container {\n",
              "      display:flex;\n",
              "      flex-wrap:wrap;\n",
              "      gap: 12px;\n",
              "    }\n",
              "\n",
              "    .colab-df-convert {\n",
              "      background-color: #E8F0FE;\n",
              "      border: none;\n",
              "      border-radius: 50%;\n",
              "      cursor: pointer;\n",
              "      display: none;\n",
              "      fill: #1967D2;\n",
              "      height: 32px;\n",
              "      padding: 0 0 0 0;\n",
              "      width: 32px;\n",
              "    }\n",
              "\n",
              "    .colab-df-convert:hover {\n",
              "      background-color: #E2EBFA;\n",
              "      box-shadow: 0px 1px 2px rgba(60, 64, 67, 0.3), 0px 1px 3px 1px rgba(60, 64, 67, 0.15);\n",
              "      fill: #174EA6;\n",
              "    }\n",
              "\n",
              "    [theme=dark] .colab-df-convert {\n",
              "      background-color: #3B4455;\n",
              "      fill: #D2E3FC;\n",
              "    }\n",
              "\n",
              "    [theme=dark] .colab-df-convert:hover {\n",
              "      background-color: #434B5C;\n",
              "      box-shadow: 0px 1px 3px 1px rgba(0, 0, 0, 0.15);\n",
              "      filter: drop-shadow(0px 1px 2px rgba(0, 0, 0, 0.3));\n",
              "      fill: #FFFFFF;\n",
              "    }\n",
              "  </style>\n",
              "\n",
              "      <script>\n",
              "        const buttonEl =\n",
              "          document.querySelector('#df-16b5b5c0-940c-4747-8f1d-e40c42995184 button.colab-df-convert');\n",
              "        buttonEl.style.display =\n",
              "          google.colab.kernel.accessAllowed ? 'block' : 'none';\n",
              "\n",
              "        async function convertToInteractive(key) {\n",
              "          const element = document.querySelector('#df-16b5b5c0-940c-4747-8f1d-e40c42995184');\n",
              "          const dataTable =\n",
              "            await google.colab.kernel.invokeFunction('convertToInteractive',\n",
              "                                                     [key], {});\n",
              "          if (!dataTable) return;\n",
              "\n",
              "          const docLinkHtml = 'Like what you see? Visit the ' +\n",
              "            '<a target=\"_blank\" href=https://colab.research.google.com/notebooks/data_table.ipynb>data table notebook</a>'\n",
              "            + ' to learn more about interactive tables.';\n",
              "          element.innerHTML = '';\n",
              "          dataTable['output_type'] = 'display_data';\n",
              "          await google.colab.output.renderOutput(dataTable, element);\n",
              "          const docLink = document.createElement('div');\n",
              "          docLink.innerHTML = docLinkHtml;\n",
              "          element.appendChild(docLink);\n",
              "        }\n",
              "      </script>\n",
              "    </div>\n",
              "  </div>\n",
              "  "
            ]
          },
          "metadata": {},
          "execution_count": 4
        }
      ]
    },
    {
      "cell_type": "code",
      "source": [
        "df.isnull().sum()"
      ],
      "metadata": {
        "execution": {
          "iopub.status.busy": "2023-03-06T17:57:59.602076Z",
          "iopub.execute_input": "2023-03-06T17:57:59.602946Z",
          "iopub.status.idle": "2023-03-06T17:57:59.614987Z",
          "shell.execute_reply.started": "2023-03-06T17:57:59.602909Z",
          "shell.execute_reply": "2023-03-06T17:57:59.613612Z"
        },
        "trusted": true,
        "colab": {
          "base_uri": "https://localhost:8080/"
        },
        "id": "6C8B2oJvJsdq",
        "outputId": "52b6ce17-b55c-4870-ed02-9f6573927238"
      },
      "execution_count": null,
      "outputs": [
        {
          "output_type": "execute_result",
          "data": {
            "text/plain": [
              "Unnamed: 0            0\n",
              "count                 0\n",
              "hate_speech           0\n",
              "offensive_language    0\n",
              "neither               0\n",
              "class                 0\n",
              "tweet                 0\n",
              "dtype: int64"
            ]
          },
          "metadata": {},
          "execution_count": 5
        }
      ]
    },
    {
      "cell_type": "code",
      "source": [
        "class_tweet = df[['class', 'tweet']]\n",
        "class_tweet.head()"
      ],
      "metadata": {
        "execution": {
          "iopub.status.busy": "2023-03-06T17:57:59.616711Z",
          "iopub.execute_input": "2023-03-06T17:57:59.617746Z",
          "iopub.status.idle": "2023-03-06T17:57:59.632126Z",
          "shell.execute_reply.started": "2023-03-06T17:57:59.617666Z",
          "shell.execute_reply": "2023-03-06T17:57:59.630788Z"
        },
        "trusted": true,
        "colab": {
          "base_uri": "https://localhost:8080/",
          "height": 206
        },
        "id": "gE16VjRVJsdr",
        "outputId": "de3aa873-b9a6-4861-c96d-869274defb63"
      },
      "execution_count": null,
      "outputs": [
        {
          "output_type": "execute_result",
          "data": {
            "text/plain": [
              "   class                                              tweet\n",
              "0      2  !!! RT @mayasolovely: As a woman you shouldn't...\n",
              "1      0  !!!!! RT @mleew17: boy dats cold...tyga dwn ba...\n",
              "2      0  !!!!!!! RT @UrKindOfBrand Dawg!!!! RT @80sbaby...\n",
              "3      0  !!!!!!!!! RT @C_G_Anderson: @viva_based she lo...\n",
              "4      0  !!!!!!!!!!!!! RT @ShenikaRoberts: The shit you..."
            ],
            "text/html": [
              "\n",
              "  <div id=\"df-afe26786-1145-4a40-888e-07952f0b75a2\">\n",
              "    <div class=\"colab-df-container\">\n",
              "      <div>\n",
              "<style scoped>\n",
              "    .dataframe tbody tr th:only-of-type {\n",
              "        vertical-align: middle;\n",
              "    }\n",
              "\n",
              "    .dataframe tbody tr th {\n",
              "        vertical-align: top;\n",
              "    }\n",
              "\n",
              "    .dataframe thead th {\n",
              "        text-align: right;\n",
              "    }\n",
              "</style>\n",
              "<table border=\"1\" class=\"dataframe\">\n",
              "  <thead>\n",
              "    <tr style=\"text-align: right;\">\n",
              "      <th></th>\n",
              "      <th>class</th>\n",
              "      <th>tweet</th>\n",
              "    </tr>\n",
              "  </thead>\n",
              "  <tbody>\n",
              "    <tr>\n",
              "      <th>0</th>\n",
              "      <td>2</td>\n",
              "      <td>!!! RT @mayasolovely: As a woman you shouldn't...</td>\n",
              "    </tr>\n",
              "    <tr>\n",
              "      <th>1</th>\n",
              "      <td>0</td>\n",
              "      <td>!!!!! RT @mleew17: boy dats cold...tyga dwn ba...</td>\n",
              "    </tr>\n",
              "    <tr>\n",
              "      <th>2</th>\n",
              "      <td>0</td>\n",
              "      <td>!!!!!!! RT @UrKindOfBrand Dawg!!!! RT @80sbaby...</td>\n",
              "    </tr>\n",
              "    <tr>\n",
              "      <th>3</th>\n",
              "      <td>0</td>\n",
              "      <td>!!!!!!!!! RT @C_G_Anderson: @viva_based she lo...</td>\n",
              "    </tr>\n",
              "    <tr>\n",
              "      <th>4</th>\n",
              "      <td>0</td>\n",
              "      <td>!!!!!!!!!!!!! RT @ShenikaRoberts: The shit you...</td>\n",
              "    </tr>\n",
              "  </tbody>\n",
              "</table>\n",
              "</div>\n",
              "      <button class=\"colab-df-convert\" onclick=\"convertToInteractive('df-afe26786-1145-4a40-888e-07952f0b75a2')\"\n",
              "              title=\"Convert this dataframe to an interactive table.\"\n",
              "              style=\"display:none;\">\n",
              "        \n",
              "  <svg xmlns=\"http://www.w3.org/2000/svg\" height=\"24px\"viewBox=\"0 0 24 24\"\n",
              "       width=\"24px\">\n",
              "    <path d=\"M0 0h24v24H0V0z\" fill=\"none\"/>\n",
              "    <path d=\"M18.56 5.44l.94 2.06.94-2.06 2.06-.94-2.06-.94-.94-2.06-.94 2.06-2.06.94zm-11 1L8.5 8.5l.94-2.06 2.06-.94-2.06-.94L8.5 2.5l-.94 2.06-2.06.94zm10 10l.94 2.06.94-2.06 2.06-.94-2.06-.94-.94-2.06-.94 2.06-2.06.94z\"/><path d=\"M17.41 7.96l-1.37-1.37c-.4-.4-.92-.59-1.43-.59-.52 0-1.04.2-1.43.59L10.3 9.45l-7.72 7.72c-.78.78-.78 2.05 0 2.83L4 21.41c.39.39.9.59 1.41.59.51 0 1.02-.2 1.41-.59l7.78-7.78 2.81-2.81c.8-.78.8-2.07 0-2.86zM5.41 20L4 18.59l7.72-7.72 1.47 1.35L5.41 20z\"/>\n",
              "  </svg>\n",
              "      </button>\n",
              "      \n",
              "  <style>\n",
              "    .colab-df-container {\n",
              "      display:flex;\n",
              "      flex-wrap:wrap;\n",
              "      gap: 12px;\n",
              "    }\n",
              "\n",
              "    .colab-df-convert {\n",
              "      background-color: #E8F0FE;\n",
              "      border: none;\n",
              "      border-radius: 50%;\n",
              "      cursor: pointer;\n",
              "      display: none;\n",
              "      fill: #1967D2;\n",
              "      height: 32px;\n",
              "      padding: 0 0 0 0;\n",
              "      width: 32px;\n",
              "    }\n",
              "\n",
              "    .colab-df-convert:hover {\n",
              "      background-color: #E2EBFA;\n",
              "      box-shadow: 0px 1px 2px rgba(60, 64, 67, 0.3), 0px 1px 3px 1px rgba(60, 64, 67, 0.15);\n",
              "      fill: #174EA6;\n",
              "    }\n",
              "\n",
              "    [theme=dark] .colab-df-convert {\n",
              "      background-color: #3B4455;\n",
              "      fill: #D2E3FC;\n",
              "    }\n",
              "\n",
              "    [theme=dark] .colab-df-convert:hover {\n",
              "      background-color: #434B5C;\n",
              "      box-shadow: 0px 1px 3px 1px rgba(0, 0, 0, 0.15);\n",
              "      filter: drop-shadow(0px 1px 2px rgba(0, 0, 0, 0.3));\n",
              "      fill: #FFFFFF;\n",
              "    }\n",
              "  </style>\n",
              "\n",
              "      <script>\n",
              "        const buttonEl =\n",
              "          document.querySelector('#df-afe26786-1145-4a40-888e-07952f0b75a2 button.colab-df-convert');\n",
              "        buttonEl.style.display =\n",
              "          google.colab.kernel.accessAllowed ? 'block' : 'none';\n",
              "\n",
              "        async function convertToInteractive(key) {\n",
              "          const element = document.querySelector('#df-afe26786-1145-4a40-888e-07952f0b75a2');\n",
              "          const dataTable =\n",
              "            await google.colab.kernel.invokeFunction('convertToInteractive',\n",
              "                                                     [key], {});\n",
              "          if (!dataTable) return;\n",
              "\n",
              "          const docLinkHtml = 'Like what you see? Visit the ' +\n",
              "            '<a target=\"_blank\" href=https://colab.research.google.com/notebooks/data_table.ipynb>data table notebook</a>'\n",
              "            + ' to learn more about interactive tables.';\n",
              "          element.innerHTML = '';\n",
              "          dataTable['output_type'] = 'display_data';\n",
              "          await google.colab.output.renderOutput(dataTable, element);\n",
              "          const docLink = document.createElement('div');\n",
              "          docLink.innerHTML = docLinkHtml;\n",
              "          element.appendChild(docLink);\n",
              "        }\n",
              "      </script>\n",
              "    </div>\n",
              "  </div>\n",
              "  "
            ]
          },
          "metadata": {},
          "execution_count": 6
        }
      ]
    },
    {
      "cell_type": "code",
      "source": [
        "def remove_tags(text):\n",
        "  text = text[text.find(\":\") + 1:]\n",
        "  return text"
      ],
      "metadata": {
        "id": "gSCu7GLxqTjR"
      },
      "execution_count": null,
      "outputs": []
    },
    {
      "cell_type": "code",
      "source": [
        "def convert_to_one(classification):\n",
        "  if(classification == 2):\n",
        "    classification = 1\n",
        "  return classification"
      ],
      "metadata": {
        "id": "tUDR2l3QmZvo"
      },
      "execution_count": null,
      "outputs": []
    },
    {
      "cell_type": "code",
      "source": [
        "class_tweet['tweet'] = class_tweet['tweet'].apply(remove_tags)\n",
        "class_tweet['class'] = class_tweet['class'].apply(convert_to_one)"
      ],
      "metadata": {
        "id": "weXEMUZSqUF_",
        "colab": {
          "base_uri": "https://localhost:8080/"
        },
        "outputId": "9fef5d98-922f-4516-ce2b-7a434c93dc9d"
      },
      "execution_count": null,
      "outputs": [
        {
          "output_type": "stream",
          "name": "stderr",
          "text": [
            "<ipython-input-9-dad1383e86a5>:1: SettingWithCopyWarning: \n",
            "A value is trying to be set on a copy of a slice from a DataFrame.\n",
            "Try using .loc[row_indexer,col_indexer] = value instead\n",
            "\n",
            "See the caveats in the documentation: https://pandas.pydata.org/pandas-docs/stable/user_guide/indexing.html#returning-a-view-versus-a-copy\n",
            "  class_tweet['tweet'] = class_tweet['tweet'].apply(remove_tags)\n",
            "<ipython-input-9-dad1383e86a5>:2: SettingWithCopyWarning: \n",
            "A value is trying to be set on a copy of a slice from a DataFrame.\n",
            "Try using .loc[row_indexer,col_indexer] = value instead\n",
            "\n",
            "See the caveats in the documentation: https://pandas.pydata.org/pandas-docs/stable/user_guide/indexing.html#returning-a-view-versus-a-copy\n",
            "  class_tweet['class'] = class_tweet['class'].apply(convert_to_one)\n"
          ]
        }
      ]
    },
    {
      "cell_type": "code",
      "source": [
        "class_tweet['class'].value_counts()"
      ],
      "metadata": {
        "colab": {
          "base_uri": "https://localhost:8080/"
        },
        "id": "xOc1GuBMQv7-",
        "outputId": "ad16b792-ca5a-4e86-defd-c1f052a291ab"
      },
      "execution_count": null,
      "outputs": [
        {
          "output_type": "execute_result",
          "data": {
            "text/plain": [
              "0    20620\n",
              "1     4163\n",
              "Name: class, dtype: int64"
            ]
          },
          "metadata": {},
          "execution_count": 10
        }
      ]
    },
    {
      "cell_type": "code",
      "source": [
        "import imblearn\n",
        "from imblearn.under_sampling import RandomUnderSampler\n",
        "\n",
        "#Random under-sampling\n",
        "randomUnder = RandomUnderSampler(random_state=42, replacement=True, sampling_strategy='majority')\n",
        "X_resampled, y_resampled = randomUnder.fit_resample(class_tweet['tweet'].values.reshape(-1,1), class_tweet['class'])\n",
        "print('Original dataset shape: ', Counter(class_tweet['class']))\n",
        "print('Resampled dataset shape: ',Counter(y_resampled))"
      ],
      "metadata": {
        "colab": {
          "base_uri": "https://localhost:8080/"
        },
        "id": "ksYjAkfNB8At",
        "outputId": "da143c85-6364-4561-ca26-cabe1d6c6051"
      },
      "execution_count": null,
      "outputs": [
        {
          "output_type": "stream",
          "name": "stdout",
          "text": [
            "Original dataset shape:  Counter({0: 20620, 1: 4163})\n",
            "Resampled dataset shape:  Counter({0: 4163, 1: 4163})\n"
          ]
        }
      ]
    },
    {
      "cell_type": "code",
      "source": [
        "from sklearn.model_selection import train_test_split  \n",
        "\n",
        "x_tweet = pd.DataFrame(X_resampled, columns=['tweet'])\n",
        "y_class = pd.DataFrame(y_resampled, columns=['class'])\n",
        "\n",
        "x_tweet_train, x_tweet_test, y_class_train, y_class_test = train_test_split(x_tweet, y_class, test_size=0.25, random_state=0)\n",
        "\n",
        "#bert_preprocess = hub.KerasLayer(\"https://tfhub.dev/tensorflow/bert_en_uncased_preprocess/3\") \n",
        "#bert_encoder = hub.KerasLayer('https://tfhub.dev/tensorflow/bert_en_uncased_L-12_H-768_A-12/4')"
      ],
      "metadata": {
        "execution": {
          "iopub.status.busy": "2023-03-06T17:57:59.634901Z",
          "iopub.execute_input": "2023-03-06T17:57:59.636043Z",
          "iopub.status.idle": "2023-03-06T17:57:59.650104Z",
          "shell.execute_reply.started": "2023-03-06T17:57:59.636002Z",
          "shell.execute_reply": "2023-03-06T17:57:59.648697Z"
        },
        "trusted": true,
        "id": "sC4NvvAqJsdr"
      },
      "execution_count": null,
      "outputs": []
    },
    {
      "cell_type": "code",
      "source": [
        "x_tweet_train"
      ],
      "metadata": {
        "execution": {
          "iopub.status.busy": "2023-03-06T17:57:59.651923Z",
          "iopub.execute_input": "2023-03-06T17:57:59.652420Z",
          "iopub.status.idle": "2023-03-06T17:57:59.668423Z",
          "shell.execute_reply.started": "2023-03-06T17:57:59.652367Z",
          "shell.execute_reply": "2023-03-06T17:57:59.667041Z"
        },
        "trusted": true,
        "colab": {
          "base_uri": "https://localhost:8080/",
          "height": 423
        },
        "id": "0wRHmURcJsdr",
        "outputId": "409198ec-da26-4d20-c007-d3fd7b84941f"
      },
      "execution_count": null,
      "outputs": [
        {
          "output_type": "execute_result",
          "data": {
            "text/plain": [
              "                                                  tweet\n",
              "6795   I am a strong believer that birds of a feathe...\n",
              "3376  @Godbody_ream \"I want to eat your pussy\" &#128...\n",
              "729    Yeah, #Eagles definitely aren't finishing 4th...\n",
              "7384        Oreo Cheesecake Bars http://t.co/RT27crIqZj\n",
              "4536  @A_Little_Wicked that's not ghetto. That's swe...\n",
              "...                                                 ...\n",
              "4373    What will the Lakers be after kobe&#8221; trash\n",
              "7891  Thinking bout those oysters at the gator bait ...\n",
              "4859  @Nazario1017 I feel that.. i see nothing wrong...\n",
              "3264  @Cryystalina haha yes niggah but yesterday nig...\n",
              "2732  @TheDevonClarke @nick_scott25 faggot scoon you...\n",
              "\n",
              "[6244 rows x 1 columns]"
            ],
            "text/html": [
              "\n",
              "  <div id=\"df-b32ad00a-fe72-49da-acab-c0c7cdb294cf\">\n",
              "    <div class=\"colab-df-container\">\n",
              "      <div>\n",
              "<style scoped>\n",
              "    .dataframe tbody tr th:only-of-type {\n",
              "        vertical-align: middle;\n",
              "    }\n",
              "\n",
              "    .dataframe tbody tr th {\n",
              "        vertical-align: top;\n",
              "    }\n",
              "\n",
              "    .dataframe thead th {\n",
              "        text-align: right;\n",
              "    }\n",
              "</style>\n",
              "<table border=\"1\" class=\"dataframe\">\n",
              "  <thead>\n",
              "    <tr style=\"text-align: right;\">\n",
              "      <th></th>\n",
              "      <th>tweet</th>\n",
              "    </tr>\n",
              "  </thead>\n",
              "  <tbody>\n",
              "    <tr>\n",
              "      <th>6795</th>\n",
              "      <td>I am a strong believer that birds of a feathe...</td>\n",
              "    </tr>\n",
              "    <tr>\n",
              "      <th>3376</th>\n",
              "      <td>@Godbody_ream \"I want to eat your pussy\" &amp;#128...</td>\n",
              "    </tr>\n",
              "    <tr>\n",
              "      <th>729</th>\n",
              "      <td>Yeah, #Eagles definitely aren't finishing 4th...</td>\n",
              "    </tr>\n",
              "    <tr>\n",
              "      <th>7384</th>\n",
              "      <td>Oreo Cheesecake Bars http://t.co/RT27crIqZj</td>\n",
              "    </tr>\n",
              "    <tr>\n",
              "      <th>4536</th>\n",
              "      <td>@A_Little_Wicked that's not ghetto. That's swe...</td>\n",
              "    </tr>\n",
              "    <tr>\n",
              "      <th>...</th>\n",
              "      <td>...</td>\n",
              "    </tr>\n",
              "    <tr>\n",
              "      <th>4373</th>\n",
              "      <td>What will the Lakers be after kobe&amp;#8221; trash</td>\n",
              "    </tr>\n",
              "    <tr>\n",
              "      <th>7891</th>\n",
              "      <td>Thinking bout those oysters at the gator bait ...</td>\n",
              "    </tr>\n",
              "    <tr>\n",
              "      <th>4859</th>\n",
              "      <td>@Nazario1017 I feel that.. i see nothing wrong...</td>\n",
              "    </tr>\n",
              "    <tr>\n",
              "      <th>3264</th>\n",
              "      <td>@Cryystalina haha yes niggah but yesterday nig...</td>\n",
              "    </tr>\n",
              "    <tr>\n",
              "      <th>2732</th>\n",
              "      <td>@TheDevonClarke @nick_scott25 faggot scoon you...</td>\n",
              "    </tr>\n",
              "  </tbody>\n",
              "</table>\n",
              "<p>6244 rows × 1 columns</p>\n",
              "</div>\n",
              "      <button class=\"colab-df-convert\" onclick=\"convertToInteractive('df-b32ad00a-fe72-49da-acab-c0c7cdb294cf')\"\n",
              "              title=\"Convert this dataframe to an interactive table.\"\n",
              "              style=\"display:none;\">\n",
              "        \n",
              "  <svg xmlns=\"http://www.w3.org/2000/svg\" height=\"24px\"viewBox=\"0 0 24 24\"\n",
              "       width=\"24px\">\n",
              "    <path d=\"M0 0h24v24H0V0z\" fill=\"none\"/>\n",
              "    <path d=\"M18.56 5.44l.94 2.06.94-2.06 2.06-.94-2.06-.94-.94-2.06-.94 2.06-2.06.94zm-11 1L8.5 8.5l.94-2.06 2.06-.94-2.06-.94L8.5 2.5l-.94 2.06-2.06.94zm10 10l.94 2.06.94-2.06 2.06-.94-2.06-.94-.94-2.06-.94 2.06-2.06.94z\"/><path d=\"M17.41 7.96l-1.37-1.37c-.4-.4-.92-.59-1.43-.59-.52 0-1.04.2-1.43.59L10.3 9.45l-7.72 7.72c-.78.78-.78 2.05 0 2.83L4 21.41c.39.39.9.59 1.41.59.51 0 1.02-.2 1.41-.59l7.78-7.78 2.81-2.81c.8-.78.8-2.07 0-2.86zM5.41 20L4 18.59l7.72-7.72 1.47 1.35L5.41 20z\"/>\n",
              "  </svg>\n",
              "      </button>\n",
              "      \n",
              "  <style>\n",
              "    .colab-df-container {\n",
              "      display:flex;\n",
              "      flex-wrap:wrap;\n",
              "      gap: 12px;\n",
              "    }\n",
              "\n",
              "    .colab-df-convert {\n",
              "      background-color: #E8F0FE;\n",
              "      border: none;\n",
              "      border-radius: 50%;\n",
              "      cursor: pointer;\n",
              "      display: none;\n",
              "      fill: #1967D2;\n",
              "      height: 32px;\n",
              "      padding: 0 0 0 0;\n",
              "      width: 32px;\n",
              "    }\n",
              "\n",
              "    .colab-df-convert:hover {\n",
              "      background-color: #E2EBFA;\n",
              "      box-shadow: 0px 1px 2px rgba(60, 64, 67, 0.3), 0px 1px 3px 1px rgba(60, 64, 67, 0.15);\n",
              "      fill: #174EA6;\n",
              "    }\n",
              "\n",
              "    [theme=dark] .colab-df-convert {\n",
              "      background-color: #3B4455;\n",
              "      fill: #D2E3FC;\n",
              "    }\n",
              "\n",
              "    [theme=dark] .colab-df-convert:hover {\n",
              "      background-color: #434B5C;\n",
              "      box-shadow: 0px 1px 3px 1px rgba(0, 0, 0, 0.15);\n",
              "      filter: drop-shadow(0px 1px 2px rgba(0, 0, 0, 0.3));\n",
              "      fill: #FFFFFF;\n",
              "    }\n",
              "  </style>\n",
              "\n",
              "      <script>\n",
              "        const buttonEl =\n",
              "          document.querySelector('#df-b32ad00a-fe72-49da-acab-c0c7cdb294cf button.colab-df-convert');\n",
              "        buttonEl.style.display =\n",
              "          google.colab.kernel.accessAllowed ? 'block' : 'none';\n",
              "\n",
              "        async function convertToInteractive(key) {\n",
              "          const element = document.querySelector('#df-b32ad00a-fe72-49da-acab-c0c7cdb294cf');\n",
              "          const dataTable =\n",
              "            await google.colab.kernel.invokeFunction('convertToInteractive',\n",
              "                                                     [key], {});\n",
              "          if (!dataTable) return;\n",
              "\n",
              "          const docLinkHtml = 'Like what you see? Visit the ' +\n",
              "            '<a target=\"_blank\" href=https://colab.research.google.com/notebooks/data_table.ipynb>data table notebook</a>'\n",
              "            + ' to learn more about interactive tables.';\n",
              "          element.innerHTML = '';\n",
              "          dataTable['output_type'] = 'display_data';\n",
              "          await google.colab.output.renderOutput(dataTable, element);\n",
              "          const docLink = document.createElement('div');\n",
              "          docLink.innerHTML = docLinkHtml;\n",
              "          element.appendChild(docLink);\n",
              "        }\n",
              "      </script>\n",
              "    </div>\n",
              "  </div>\n",
              "  "
            ]
          },
          "metadata": {},
          "execution_count": 13
        }
      ]
    },
    {
      "cell_type": "code",
      "source": [
        "x_tweet_test"
      ],
      "metadata": {
        "execution": {
          "iopub.status.busy": "2023-03-06T17:57:59.669772Z",
          "iopub.execute_input": "2023-03-06T17:57:59.670236Z",
          "iopub.status.idle": "2023-03-06T17:57:59.687395Z",
          "shell.execute_reply.started": "2023-03-06T17:57:59.670169Z",
          "shell.execute_reply": "2023-03-06T17:57:59.686076Z"
        },
        "trusted": true,
        "colab": {
          "base_uri": "https://localhost:8080/",
          "height": 423
        },
        "id": "zQwPuMCXJsdr",
        "outputId": "dbe258cf-c991-4fac-e646-1a6054836dcf"
      },
      "execution_count": null,
      "outputs": [
        {
          "output_type": "execute_result",
          "data": {
            "text/plain": [
              "                                                  tweet\n",
              "6633   Part of my cousin Danny's Yankee Swap. Pretty...\n",
              "7816  The Guy got excited when he saw Oreo cookie cr...\n",
              "5412         @treagle05 early bird gets the worm tomcat\n",
              "6949   Rick Scott vs. Charlie Crist is the worst gub...\n",
              "7097   \"I&#8217;ve had the greatest job in the world...\n",
              "...                                                 ...\n",
              "5810  Going to California today for some analyzer tr...\n",
              "7251   You may cry after watching the Derek Jeter @G...\n",
              "443                                   //t.co/djuvhsBy84\n",
              "5770  Four ho&#251;rs to back up this iPhone haha......\n",
              "84     \" now i know why niggas have sides, my bitch ...\n",
              "\n",
              "[2082 rows x 1 columns]"
            ],
            "text/html": [
              "\n",
              "  <div id=\"df-1c04688f-3761-4adf-af35-c017dda1a58a\">\n",
              "    <div class=\"colab-df-container\">\n",
              "      <div>\n",
              "<style scoped>\n",
              "    .dataframe tbody tr th:only-of-type {\n",
              "        vertical-align: middle;\n",
              "    }\n",
              "\n",
              "    .dataframe tbody tr th {\n",
              "        vertical-align: top;\n",
              "    }\n",
              "\n",
              "    .dataframe thead th {\n",
              "        text-align: right;\n",
              "    }\n",
              "</style>\n",
              "<table border=\"1\" class=\"dataframe\">\n",
              "  <thead>\n",
              "    <tr style=\"text-align: right;\">\n",
              "      <th></th>\n",
              "      <th>tweet</th>\n",
              "    </tr>\n",
              "  </thead>\n",
              "  <tbody>\n",
              "    <tr>\n",
              "      <th>6633</th>\n",
              "      <td>Part of my cousin Danny's Yankee Swap. Pretty...</td>\n",
              "    </tr>\n",
              "    <tr>\n",
              "      <th>7816</th>\n",
              "      <td>The Guy got excited when he saw Oreo cookie cr...</td>\n",
              "    </tr>\n",
              "    <tr>\n",
              "      <th>5412</th>\n",
              "      <td>@treagle05 early bird gets the worm tomcat</td>\n",
              "    </tr>\n",
              "    <tr>\n",
              "      <th>6949</th>\n",
              "      <td>Rick Scott vs. Charlie Crist is the worst gub...</td>\n",
              "    </tr>\n",
              "    <tr>\n",
              "      <th>7097</th>\n",
              "      <td>\"I&amp;#8217;ve had the greatest job in the world...</td>\n",
              "    </tr>\n",
              "    <tr>\n",
              "      <th>...</th>\n",
              "      <td>...</td>\n",
              "    </tr>\n",
              "    <tr>\n",
              "      <th>5810</th>\n",
              "      <td>Going to California today for some analyzer tr...</td>\n",
              "    </tr>\n",
              "    <tr>\n",
              "      <th>7251</th>\n",
              "      <td>You may cry after watching the Derek Jeter @G...</td>\n",
              "    </tr>\n",
              "    <tr>\n",
              "      <th>443</th>\n",
              "      <td>//t.co/djuvhsBy84</td>\n",
              "    </tr>\n",
              "    <tr>\n",
              "      <th>5770</th>\n",
              "      <td>Four ho&amp;#251;rs to back up this iPhone haha......</td>\n",
              "    </tr>\n",
              "    <tr>\n",
              "      <th>84</th>\n",
              "      <td>\" now i know why niggas have sides, my bitch ...</td>\n",
              "    </tr>\n",
              "  </tbody>\n",
              "</table>\n",
              "<p>2082 rows × 1 columns</p>\n",
              "</div>\n",
              "      <button class=\"colab-df-convert\" onclick=\"convertToInteractive('df-1c04688f-3761-4adf-af35-c017dda1a58a')\"\n",
              "              title=\"Convert this dataframe to an interactive table.\"\n",
              "              style=\"display:none;\">\n",
              "        \n",
              "  <svg xmlns=\"http://www.w3.org/2000/svg\" height=\"24px\"viewBox=\"0 0 24 24\"\n",
              "       width=\"24px\">\n",
              "    <path d=\"M0 0h24v24H0V0z\" fill=\"none\"/>\n",
              "    <path d=\"M18.56 5.44l.94 2.06.94-2.06 2.06-.94-2.06-.94-.94-2.06-.94 2.06-2.06.94zm-11 1L8.5 8.5l.94-2.06 2.06-.94-2.06-.94L8.5 2.5l-.94 2.06-2.06.94zm10 10l.94 2.06.94-2.06 2.06-.94-2.06-.94-.94-2.06-.94 2.06-2.06.94z\"/><path d=\"M17.41 7.96l-1.37-1.37c-.4-.4-.92-.59-1.43-.59-.52 0-1.04.2-1.43.59L10.3 9.45l-7.72 7.72c-.78.78-.78 2.05 0 2.83L4 21.41c.39.39.9.59 1.41.59.51 0 1.02-.2 1.41-.59l7.78-7.78 2.81-2.81c.8-.78.8-2.07 0-2.86zM5.41 20L4 18.59l7.72-7.72 1.47 1.35L5.41 20z\"/>\n",
              "  </svg>\n",
              "      </button>\n",
              "      \n",
              "  <style>\n",
              "    .colab-df-container {\n",
              "      display:flex;\n",
              "      flex-wrap:wrap;\n",
              "      gap: 12px;\n",
              "    }\n",
              "\n",
              "    .colab-df-convert {\n",
              "      background-color: #E8F0FE;\n",
              "      border: none;\n",
              "      border-radius: 50%;\n",
              "      cursor: pointer;\n",
              "      display: none;\n",
              "      fill: #1967D2;\n",
              "      height: 32px;\n",
              "      padding: 0 0 0 0;\n",
              "      width: 32px;\n",
              "    }\n",
              "\n",
              "    .colab-df-convert:hover {\n",
              "      background-color: #E2EBFA;\n",
              "      box-shadow: 0px 1px 2px rgba(60, 64, 67, 0.3), 0px 1px 3px 1px rgba(60, 64, 67, 0.15);\n",
              "      fill: #174EA6;\n",
              "    }\n",
              "\n",
              "    [theme=dark] .colab-df-convert {\n",
              "      background-color: #3B4455;\n",
              "      fill: #D2E3FC;\n",
              "    }\n",
              "\n",
              "    [theme=dark] .colab-df-convert:hover {\n",
              "      background-color: #434B5C;\n",
              "      box-shadow: 0px 1px 3px 1px rgba(0, 0, 0, 0.15);\n",
              "      filter: drop-shadow(0px 1px 2px rgba(0, 0, 0, 0.3));\n",
              "      fill: #FFFFFF;\n",
              "    }\n",
              "  </style>\n",
              "\n",
              "      <script>\n",
              "        const buttonEl =\n",
              "          document.querySelector('#df-1c04688f-3761-4adf-af35-c017dda1a58a button.colab-df-convert');\n",
              "        buttonEl.style.display =\n",
              "          google.colab.kernel.accessAllowed ? 'block' : 'none';\n",
              "\n",
              "        async function convertToInteractive(key) {\n",
              "          const element = document.querySelector('#df-1c04688f-3761-4adf-af35-c017dda1a58a');\n",
              "          const dataTable =\n",
              "            await google.colab.kernel.invokeFunction('convertToInteractive',\n",
              "                                                     [key], {});\n",
              "          if (!dataTable) return;\n",
              "\n",
              "          const docLinkHtml = 'Like what you see? Visit the ' +\n",
              "            '<a target=\"_blank\" href=https://colab.research.google.com/notebooks/data_table.ipynb>data table notebook</a>'\n",
              "            + ' to learn more about interactive tables.';\n",
              "          element.innerHTML = '';\n",
              "          dataTable['output_type'] = 'display_data';\n",
              "          await google.colab.output.renderOutput(dataTable, element);\n",
              "          const docLink = document.createElement('div');\n",
              "          docLink.innerHTML = docLinkHtml;\n",
              "          element.appendChild(docLink);\n",
              "        }\n",
              "      </script>\n",
              "    </div>\n",
              "  </div>\n",
              "  "
            ]
          },
          "metadata": {},
          "execution_count": 14
        }
      ]
    },
    {
      "cell_type": "code",
      "source": [
        "y_class_train"
      ],
      "metadata": {
        "execution": {
          "iopub.status.busy": "2023-03-06T17:57:59.688712Z",
          "iopub.execute_input": "2023-03-06T17:57:59.689108Z",
          "iopub.status.idle": "2023-03-06T17:57:59.704872Z",
          "shell.execute_reply.started": "2023-03-06T17:57:59.689070Z",
          "shell.execute_reply": "2023-03-06T17:57:59.703471Z"
        },
        "trusted": true,
        "colab": {
          "base_uri": "https://localhost:8080/",
          "height": 423
        },
        "id": "IexNL07LJsds",
        "outputId": "5b588de8-d46f-4af4-f275-7bb4a83ba0fd"
      },
      "execution_count": null,
      "outputs": [
        {
          "output_type": "execute_result",
          "data": {
            "text/plain": [
              "      class\n",
              "6795      1\n",
              "3376      0\n",
              "729       0\n",
              "7384      1\n",
              "4536      1\n",
              "...     ...\n",
              "4373      1\n",
              "7891      1\n",
              "4859      1\n",
              "3264      0\n",
              "2732      0\n",
              "\n",
              "[6244 rows x 1 columns]"
            ],
            "text/html": [
              "\n",
              "  <div id=\"df-00c16acb-1b8f-46f7-a0ef-a8aa431cb97d\">\n",
              "    <div class=\"colab-df-container\">\n",
              "      <div>\n",
              "<style scoped>\n",
              "    .dataframe tbody tr th:only-of-type {\n",
              "        vertical-align: middle;\n",
              "    }\n",
              "\n",
              "    .dataframe tbody tr th {\n",
              "        vertical-align: top;\n",
              "    }\n",
              "\n",
              "    .dataframe thead th {\n",
              "        text-align: right;\n",
              "    }\n",
              "</style>\n",
              "<table border=\"1\" class=\"dataframe\">\n",
              "  <thead>\n",
              "    <tr style=\"text-align: right;\">\n",
              "      <th></th>\n",
              "      <th>class</th>\n",
              "    </tr>\n",
              "  </thead>\n",
              "  <tbody>\n",
              "    <tr>\n",
              "      <th>6795</th>\n",
              "      <td>1</td>\n",
              "    </tr>\n",
              "    <tr>\n",
              "      <th>3376</th>\n",
              "      <td>0</td>\n",
              "    </tr>\n",
              "    <tr>\n",
              "      <th>729</th>\n",
              "      <td>0</td>\n",
              "    </tr>\n",
              "    <tr>\n",
              "      <th>7384</th>\n",
              "      <td>1</td>\n",
              "    </tr>\n",
              "    <tr>\n",
              "      <th>4536</th>\n",
              "      <td>1</td>\n",
              "    </tr>\n",
              "    <tr>\n",
              "      <th>...</th>\n",
              "      <td>...</td>\n",
              "    </tr>\n",
              "    <tr>\n",
              "      <th>4373</th>\n",
              "      <td>1</td>\n",
              "    </tr>\n",
              "    <tr>\n",
              "      <th>7891</th>\n",
              "      <td>1</td>\n",
              "    </tr>\n",
              "    <tr>\n",
              "      <th>4859</th>\n",
              "      <td>1</td>\n",
              "    </tr>\n",
              "    <tr>\n",
              "      <th>3264</th>\n",
              "      <td>0</td>\n",
              "    </tr>\n",
              "    <tr>\n",
              "      <th>2732</th>\n",
              "      <td>0</td>\n",
              "    </tr>\n",
              "  </tbody>\n",
              "</table>\n",
              "<p>6244 rows × 1 columns</p>\n",
              "</div>\n",
              "      <button class=\"colab-df-convert\" onclick=\"convertToInteractive('df-00c16acb-1b8f-46f7-a0ef-a8aa431cb97d')\"\n",
              "              title=\"Convert this dataframe to an interactive table.\"\n",
              "              style=\"display:none;\">\n",
              "        \n",
              "  <svg xmlns=\"http://www.w3.org/2000/svg\" height=\"24px\"viewBox=\"0 0 24 24\"\n",
              "       width=\"24px\">\n",
              "    <path d=\"M0 0h24v24H0V0z\" fill=\"none\"/>\n",
              "    <path d=\"M18.56 5.44l.94 2.06.94-2.06 2.06-.94-2.06-.94-.94-2.06-.94 2.06-2.06.94zm-11 1L8.5 8.5l.94-2.06 2.06-.94-2.06-.94L8.5 2.5l-.94 2.06-2.06.94zm10 10l.94 2.06.94-2.06 2.06-.94-2.06-.94-.94-2.06-.94 2.06-2.06.94z\"/><path d=\"M17.41 7.96l-1.37-1.37c-.4-.4-.92-.59-1.43-.59-.52 0-1.04.2-1.43.59L10.3 9.45l-7.72 7.72c-.78.78-.78 2.05 0 2.83L4 21.41c.39.39.9.59 1.41.59.51 0 1.02-.2 1.41-.59l7.78-7.78 2.81-2.81c.8-.78.8-2.07 0-2.86zM5.41 20L4 18.59l7.72-7.72 1.47 1.35L5.41 20z\"/>\n",
              "  </svg>\n",
              "      </button>\n",
              "      \n",
              "  <style>\n",
              "    .colab-df-container {\n",
              "      display:flex;\n",
              "      flex-wrap:wrap;\n",
              "      gap: 12px;\n",
              "    }\n",
              "\n",
              "    .colab-df-convert {\n",
              "      background-color: #E8F0FE;\n",
              "      border: none;\n",
              "      border-radius: 50%;\n",
              "      cursor: pointer;\n",
              "      display: none;\n",
              "      fill: #1967D2;\n",
              "      height: 32px;\n",
              "      padding: 0 0 0 0;\n",
              "      width: 32px;\n",
              "    }\n",
              "\n",
              "    .colab-df-convert:hover {\n",
              "      background-color: #E2EBFA;\n",
              "      box-shadow: 0px 1px 2px rgba(60, 64, 67, 0.3), 0px 1px 3px 1px rgba(60, 64, 67, 0.15);\n",
              "      fill: #174EA6;\n",
              "    }\n",
              "\n",
              "    [theme=dark] .colab-df-convert {\n",
              "      background-color: #3B4455;\n",
              "      fill: #D2E3FC;\n",
              "    }\n",
              "\n",
              "    [theme=dark] .colab-df-convert:hover {\n",
              "      background-color: #434B5C;\n",
              "      box-shadow: 0px 1px 3px 1px rgba(0, 0, 0, 0.15);\n",
              "      filter: drop-shadow(0px 1px 2px rgba(0, 0, 0, 0.3));\n",
              "      fill: #FFFFFF;\n",
              "    }\n",
              "  </style>\n",
              "\n",
              "      <script>\n",
              "        const buttonEl =\n",
              "          document.querySelector('#df-00c16acb-1b8f-46f7-a0ef-a8aa431cb97d button.colab-df-convert');\n",
              "        buttonEl.style.display =\n",
              "          google.colab.kernel.accessAllowed ? 'block' : 'none';\n",
              "\n",
              "        async function convertToInteractive(key) {\n",
              "          const element = document.querySelector('#df-00c16acb-1b8f-46f7-a0ef-a8aa431cb97d');\n",
              "          const dataTable =\n",
              "            await google.colab.kernel.invokeFunction('convertToInteractive',\n",
              "                                                     [key], {});\n",
              "          if (!dataTable) return;\n",
              "\n",
              "          const docLinkHtml = 'Like what you see? Visit the ' +\n",
              "            '<a target=\"_blank\" href=https://colab.research.google.com/notebooks/data_table.ipynb>data table notebook</a>'\n",
              "            + ' to learn more about interactive tables.';\n",
              "          element.innerHTML = '';\n",
              "          dataTable['output_type'] = 'display_data';\n",
              "          await google.colab.output.renderOutput(dataTable, element);\n",
              "          const docLink = document.createElement('div');\n",
              "          docLink.innerHTML = docLinkHtml;\n",
              "          element.appendChild(docLink);\n",
              "        }\n",
              "      </script>\n",
              "    </div>\n",
              "  </div>\n",
              "  "
            ]
          },
          "metadata": {},
          "execution_count": 15
        }
      ]
    },
    {
      "cell_type": "code",
      "source": [
        "y_class_test"
      ],
      "metadata": {
        "execution": {
          "iopub.status.busy": "2023-03-06T17:57:59.706506Z",
          "iopub.execute_input": "2023-03-06T17:57:59.706981Z",
          "iopub.status.idle": "2023-03-06T17:57:59.723923Z",
          "shell.execute_reply.started": "2023-03-06T17:57:59.706926Z",
          "shell.execute_reply": "2023-03-06T17:57:59.723036Z"
        },
        "trusted": true,
        "colab": {
          "base_uri": "https://localhost:8080/",
          "height": 423
        },
        "id": "qIVA0kB3Jsds",
        "outputId": "29645e06-889d-44d9-a45a-b3edaaa0e678"
      },
      "execution_count": null,
      "outputs": [
        {
          "output_type": "execute_result",
          "data": {
            "text/plain": [
              "      class\n",
              "6633      1\n",
              "7816      1\n",
              "5412      1\n",
              "6949      1\n",
              "7097      1\n",
              "...     ...\n",
              "5810      1\n",
              "7251      1\n",
              "443       0\n",
              "5770      1\n",
              "84        0\n",
              "\n",
              "[2082 rows x 1 columns]"
            ],
            "text/html": [
              "\n",
              "  <div id=\"df-12f35584-9bfb-4fdf-8512-659de62e2820\">\n",
              "    <div class=\"colab-df-container\">\n",
              "      <div>\n",
              "<style scoped>\n",
              "    .dataframe tbody tr th:only-of-type {\n",
              "        vertical-align: middle;\n",
              "    }\n",
              "\n",
              "    .dataframe tbody tr th {\n",
              "        vertical-align: top;\n",
              "    }\n",
              "\n",
              "    .dataframe thead th {\n",
              "        text-align: right;\n",
              "    }\n",
              "</style>\n",
              "<table border=\"1\" class=\"dataframe\">\n",
              "  <thead>\n",
              "    <tr style=\"text-align: right;\">\n",
              "      <th></th>\n",
              "      <th>class</th>\n",
              "    </tr>\n",
              "  </thead>\n",
              "  <tbody>\n",
              "    <tr>\n",
              "      <th>6633</th>\n",
              "      <td>1</td>\n",
              "    </tr>\n",
              "    <tr>\n",
              "      <th>7816</th>\n",
              "      <td>1</td>\n",
              "    </tr>\n",
              "    <tr>\n",
              "      <th>5412</th>\n",
              "      <td>1</td>\n",
              "    </tr>\n",
              "    <tr>\n",
              "      <th>6949</th>\n",
              "      <td>1</td>\n",
              "    </tr>\n",
              "    <tr>\n",
              "      <th>7097</th>\n",
              "      <td>1</td>\n",
              "    </tr>\n",
              "    <tr>\n",
              "      <th>...</th>\n",
              "      <td>...</td>\n",
              "    </tr>\n",
              "    <tr>\n",
              "      <th>5810</th>\n",
              "      <td>1</td>\n",
              "    </tr>\n",
              "    <tr>\n",
              "      <th>7251</th>\n",
              "      <td>1</td>\n",
              "    </tr>\n",
              "    <tr>\n",
              "      <th>443</th>\n",
              "      <td>0</td>\n",
              "    </tr>\n",
              "    <tr>\n",
              "      <th>5770</th>\n",
              "      <td>1</td>\n",
              "    </tr>\n",
              "    <tr>\n",
              "      <th>84</th>\n",
              "      <td>0</td>\n",
              "    </tr>\n",
              "  </tbody>\n",
              "</table>\n",
              "<p>2082 rows × 1 columns</p>\n",
              "</div>\n",
              "      <button class=\"colab-df-convert\" onclick=\"convertToInteractive('df-12f35584-9bfb-4fdf-8512-659de62e2820')\"\n",
              "              title=\"Convert this dataframe to an interactive table.\"\n",
              "              style=\"display:none;\">\n",
              "        \n",
              "  <svg xmlns=\"http://www.w3.org/2000/svg\" height=\"24px\"viewBox=\"0 0 24 24\"\n",
              "       width=\"24px\">\n",
              "    <path d=\"M0 0h24v24H0V0z\" fill=\"none\"/>\n",
              "    <path d=\"M18.56 5.44l.94 2.06.94-2.06 2.06-.94-2.06-.94-.94-2.06-.94 2.06-2.06.94zm-11 1L8.5 8.5l.94-2.06 2.06-.94-2.06-.94L8.5 2.5l-.94 2.06-2.06.94zm10 10l.94 2.06.94-2.06 2.06-.94-2.06-.94-.94-2.06-.94 2.06-2.06.94z\"/><path d=\"M17.41 7.96l-1.37-1.37c-.4-.4-.92-.59-1.43-.59-.52 0-1.04.2-1.43.59L10.3 9.45l-7.72 7.72c-.78.78-.78 2.05 0 2.83L4 21.41c.39.39.9.59 1.41.59.51 0 1.02-.2 1.41-.59l7.78-7.78 2.81-2.81c.8-.78.8-2.07 0-2.86zM5.41 20L4 18.59l7.72-7.72 1.47 1.35L5.41 20z\"/>\n",
              "  </svg>\n",
              "      </button>\n",
              "      \n",
              "  <style>\n",
              "    .colab-df-container {\n",
              "      display:flex;\n",
              "      flex-wrap:wrap;\n",
              "      gap: 12px;\n",
              "    }\n",
              "\n",
              "    .colab-df-convert {\n",
              "      background-color: #E8F0FE;\n",
              "      border: none;\n",
              "      border-radius: 50%;\n",
              "      cursor: pointer;\n",
              "      display: none;\n",
              "      fill: #1967D2;\n",
              "      height: 32px;\n",
              "      padding: 0 0 0 0;\n",
              "      width: 32px;\n",
              "    }\n",
              "\n",
              "    .colab-df-convert:hover {\n",
              "      background-color: #E2EBFA;\n",
              "      box-shadow: 0px 1px 2px rgba(60, 64, 67, 0.3), 0px 1px 3px 1px rgba(60, 64, 67, 0.15);\n",
              "      fill: #174EA6;\n",
              "    }\n",
              "\n",
              "    [theme=dark] .colab-df-convert {\n",
              "      background-color: #3B4455;\n",
              "      fill: #D2E3FC;\n",
              "    }\n",
              "\n",
              "    [theme=dark] .colab-df-convert:hover {\n",
              "      background-color: #434B5C;\n",
              "      box-shadow: 0px 1px 3px 1px rgba(0, 0, 0, 0.15);\n",
              "      filter: drop-shadow(0px 1px 2px rgba(0, 0, 0, 0.3));\n",
              "      fill: #FFFFFF;\n",
              "    }\n",
              "  </style>\n",
              "\n",
              "      <script>\n",
              "        const buttonEl =\n",
              "          document.querySelector('#df-12f35584-9bfb-4fdf-8512-659de62e2820 button.colab-df-convert');\n",
              "        buttonEl.style.display =\n",
              "          google.colab.kernel.accessAllowed ? 'block' : 'none';\n",
              "\n",
              "        async function convertToInteractive(key) {\n",
              "          const element = document.querySelector('#df-12f35584-9bfb-4fdf-8512-659de62e2820');\n",
              "          const dataTable =\n",
              "            await google.colab.kernel.invokeFunction('convertToInteractive',\n",
              "                                                     [key], {});\n",
              "          if (!dataTable) return;\n",
              "\n",
              "          const docLinkHtml = 'Like what you see? Visit the ' +\n",
              "            '<a target=\"_blank\" href=https://colab.research.google.com/notebooks/data_table.ipynb>data table notebook</a>'\n",
              "            + ' to learn more about interactive tables.';\n",
              "          element.innerHTML = '';\n",
              "          dataTable['output_type'] = 'display_data';\n",
              "          await google.colab.output.renderOutput(dataTable, element);\n",
              "          const docLink = document.createElement('div');\n",
              "          docLink.innerHTML = docLinkHtml;\n",
              "          element.appendChild(docLink);\n",
              "        }\n",
              "      </script>\n",
              "    </div>\n",
              "  </div>\n",
              "  "
            ]
          },
          "metadata": {},
          "execution_count": 16
        }
      ]
    },
    {
      "cell_type": "code",
      "source": [
        "x_tweet_train.shape"
      ],
      "metadata": {
        "execution": {
          "iopub.status.busy": "2023-03-06T17:57:59.725735Z",
          "iopub.execute_input": "2023-03-06T17:57:59.726091Z",
          "iopub.status.idle": "2023-03-06T17:57:59.733393Z",
          "shell.execute_reply.started": "2023-03-06T17:57:59.726057Z",
          "shell.execute_reply": "2023-03-06T17:57:59.732467Z"
        },
        "trusted": true,
        "colab": {
          "base_uri": "https://localhost:8080/"
        },
        "id": "6qMiukY9Jsds",
        "outputId": "78536dc6-63de-42c4-d872-48386eac02b4"
      },
      "execution_count": null,
      "outputs": [
        {
          "output_type": "execute_result",
          "data": {
            "text/plain": [
              "(6244, 1)"
            ]
          },
          "metadata": {},
          "execution_count": 17
        }
      ]
    },
    {
      "cell_type": "code",
      "source": [
        "x_tweet_test.shape"
      ],
      "metadata": {
        "execution": {
          "iopub.status.busy": "2023-03-06T17:57:59.737919Z",
          "iopub.execute_input": "2023-03-06T17:57:59.738457Z",
          "iopub.status.idle": "2023-03-06T17:57:59.746753Z",
          "shell.execute_reply.started": "2023-03-06T17:57:59.738405Z",
          "shell.execute_reply": "2023-03-06T17:57:59.745857Z"
        },
        "trusted": true,
        "colab": {
          "base_uri": "https://localhost:8080/"
        },
        "id": "5_evnmabJsds",
        "outputId": "045756c9-1ce5-4ffb-9790-2f722baf1460"
      },
      "execution_count": null,
      "outputs": [
        {
          "output_type": "execute_result",
          "data": {
            "text/plain": [
              "(2082, 1)"
            ]
          },
          "metadata": {},
          "execution_count": 18
        }
      ]
    },
    {
      "cell_type": "code",
      "source": [
        "##no\n",
        "#x_tweet_test_copy = x_tweet_test.copy()\n",
        "#x_tweet_test_copy.reset_index(inplace = True)\n",
        "#x_tweet_test_copy.shape"
      ],
      "metadata": {
        "execution": {
          "iopub.status.busy": "2023-03-06T17:57:59.748391Z",
          "iopub.execute_input": "2023-03-06T17:57:59.748891Z",
          "iopub.status.idle": "2023-03-06T17:57:59.759495Z",
          "shell.execute_reply.started": "2023-03-06T17:57:59.748842Z",
          "shell.execute_reply": "2023-03-06T17:57:59.758392Z"
        },
        "trusted": true,
        "id": "j-gpJCmRJsdt"
      },
      "execution_count": null,
      "outputs": []
    },
    {
      "cell_type": "code",
      "source": [
        "##no\n",
        "#x_tweet_train_copy = x_tweet_train.copy()\n",
        "#x_tweet_train_copy.reset_index(inplace = True)\n",
        "#x_tweet_train_copy.shape"
      ],
      "metadata": {
        "execution": {
          "iopub.status.busy": "2023-03-06T17:57:59.761070Z",
          "iopub.execute_input": "2023-03-06T17:57:59.761676Z",
          "iopub.status.idle": "2023-03-06T17:57:59.772862Z",
          "shell.execute_reply.started": "2023-03-06T17:57:59.761637Z",
          "shell.execute_reply": "2023-03-06T17:57:59.771330Z"
        },
        "trusted": true,
        "id": "-lIacjCNJsdt"
      },
      "execution_count": null,
      "outputs": []
    },
    {
      "cell_type": "code",
      "source": [
        "x_tweet_train = x_tweet_train.squeeze()\n",
        "type(x_tweet_train.squeeze())"
      ],
      "metadata": {
        "execution": {
          "iopub.status.busy": "2023-03-06T17:57:59.774430Z",
          "iopub.execute_input": "2023-03-06T17:57:59.774790Z",
          "iopub.status.idle": "2023-03-06T17:57:59.789839Z",
          "shell.execute_reply.started": "2023-03-06T17:57:59.774757Z",
          "shell.execute_reply": "2023-03-06T17:57:59.788052Z"
        },
        "trusted": true,
        "colab": {
          "base_uri": "https://localhost:8080/"
        },
        "id": "x6vkMlIdJsdt",
        "outputId": "c2157929-be74-48f2-9500-eee4f592090f"
      },
      "execution_count": null,
      "outputs": [
        {
          "output_type": "execute_result",
          "data": {
            "text/plain": [
              "pandas.core.series.Series"
            ]
          },
          "metadata": {},
          "execution_count": 19
        }
      ]
    },
    {
      "cell_type": "code",
      "source": [
        "frames = [x_tweet_test, y_class_test]\n",
        "result_concat = pd.concat(frames, axis=1, join=\"inner\")\n",
        "print(result_concat)"
      ],
      "metadata": {
        "execution": {
          "iopub.status.busy": "2023-03-06T17:57:59.791820Z",
          "iopub.execute_input": "2023-03-06T17:57:59.793224Z",
          "iopub.status.idle": "2023-03-06T17:57:59.804603Z",
          "shell.execute_reply.started": "2023-03-06T17:57:59.793165Z",
          "shell.execute_reply": "2023-03-06T17:57:59.803177Z"
        },
        "trusted": true,
        "colab": {
          "base_uri": "https://localhost:8080/"
        },
        "id": "y3D26RKmJsdt",
        "outputId": "1f0f1b4e-6c43-4014-e039-9ac55ae75a92"
      },
      "execution_count": null,
      "outputs": [
        {
          "output_type": "stream",
          "name": "stdout",
          "text": [
            "                                                  tweet  class\n",
            "6633   Part of my cousin Danny's Yankee Swap. Pretty...      1\n",
            "7816  The Guy got excited when he saw Oreo cookie cr...      1\n",
            "5412         @treagle05 early bird gets the worm tomcat      1\n",
            "6949   Rick Scott vs. Charlie Crist is the worst gub...      1\n",
            "7097   \"I&#8217;ve had the greatest job in the world...      1\n",
            "...                                                 ...    ...\n",
            "5810  Going to California today for some analyzer tr...      1\n",
            "7251   You may cry after watching the Derek Jeter @G...      1\n",
            "443                                   //t.co/djuvhsBy84      0\n",
            "5770  Four ho&#251;rs to back up this iPhone haha......      1\n",
            "84     \" now i know why niggas have sides, my bitch ...      0\n",
            "\n",
            "[2082 rows x 2 columns]\n"
          ]
        }
      ]
    },
    {
      "cell_type": "code",
      "source": [
        "just_hate = result_concat.loc[result_concat['class'] == 0]\n",
        "x_tweet_test_hate = just_hate['tweet']\n",
        "y_class_test_hate = just_hate['class']\n",
        "\n",
        "print(x_tweet_test_hate)\n",
        "print(y_class_test_hate)"
      ],
      "metadata": {
        "colab": {
          "base_uri": "https://localhost:8080/"
        },
        "id": "ajuEI5GCxWQi",
        "outputId": "f89170f6-37d3-4bb0-e341-d77d93c8f658"
      },
      "execution_count": null,
      "outputs": [
        {
          "output_type": "stream",
          "name": "stdout",
          "text": [
            "916      Ok, sis.\" She'd rather be a broke bitch? *shr...\n",
            "1768    Smashed a werewolf chick and thought she was r...\n",
            "3726     Either Young Thug gay, or this bitch pooted h...\n",
            "1066    @myfriendbriana can I ask my bitch for other b...\n",
            "2521     That's because they're possibly tucking a pen...\n",
            "                              ...                        \n",
            "2329    @DefendWallSt those little #ISIS faggots usual...\n",
            "1173     http://t.co/s0kAVO4D3E them Wet &#128076;&#12...\n",
            "1027    @Jessycaa_Rubi @O_ShitItsLaura Bitch you just ...\n",
            "443                                     //t.co/djuvhsBy84\n",
            "84       \" now i know why niggas have sides, my bitch ...\n",
            "Name: tweet, Length: 1036, dtype: object\n",
            "916     0\n",
            "1768    0\n",
            "3726    0\n",
            "1066    0\n",
            "2521    0\n",
            "       ..\n",
            "2329    0\n",
            "1173    0\n",
            "1027    0\n",
            "443     0\n",
            "84      0\n",
            "Name: class, Length: 1036, dtype: int64\n"
          ]
        }
      ]
    },
    {
      "cell_type": "code",
      "source": [
        "x_tweet_test_hate = x_tweet_test_hate.squeeze()\n",
        "type(x_tweet_test_hate)"
      ],
      "metadata": {
        "colab": {
          "base_uri": "https://localhost:8080/"
        },
        "id": "8vREWRt6zK4J",
        "outputId": "9d38786d-03f4-4e9f-8b31-3e8ef2e50d2c"
      },
      "execution_count": null,
      "outputs": [
        {
          "output_type": "execute_result",
          "data": {
            "text/plain": [
              "pandas.core.series.Series"
            ]
          },
          "metadata": {},
          "execution_count": 54
        }
      ]
    },
    {
      "cell_type": "code",
      "source": [
        "y_class_test_hate = y_class_test_hate.squeeze()\n",
        "type(y_class_test_hate)"
      ],
      "metadata": {
        "colab": {
          "base_uri": "https://localhost:8080/"
        },
        "id": "B5AiXcJKzVtn",
        "outputId": "28d25c76-0281-4276-a301-ead0c0d097b6"
      },
      "execution_count": null,
      "outputs": [
        {
          "output_type": "execute_result",
          "data": {
            "text/plain": [
              "pandas.core.series.Series"
            ]
          },
          "metadata": {},
          "execution_count": 55
        }
      ]
    },
    {
      "cell_type": "code",
      "source": [
        "x_tweet_test = x_tweet_test.squeeze()\n",
        "type(x_tweet_test)"
      ],
      "metadata": {
        "colab": {
          "base_uri": "https://localhost:8080/"
        },
        "id": "zNYJMlFNxEhN",
        "outputId": "644cffec-ffd9-4fa8-c813-3164261dbfab"
      },
      "execution_count": null,
      "outputs": [
        {
          "output_type": "execute_result",
          "data": {
            "text/plain": [
              "pandas.core.series.Series"
            ]
          },
          "metadata": {},
          "execution_count": 43
        }
      ]
    },
    {
      "cell_type": "code",
      "source": [
        "x_tweet_test.shape"
      ],
      "metadata": {
        "execution": {
          "iopub.status.busy": "2023-03-06T17:57:59.806357Z",
          "iopub.execute_input": "2023-03-06T17:57:59.806731Z",
          "iopub.status.idle": "2023-03-06T17:57:59.816912Z",
          "shell.execute_reply.started": "2023-03-06T17:57:59.806695Z",
          "shell.execute_reply": "2023-03-06T17:57:59.815770Z"
        },
        "trusted": true,
        "colab": {
          "base_uri": "https://localhost:8080/"
        },
        "id": "0nEtnGC_Jsdt",
        "outputId": "57de3970-33f1-4712-b73e-59e9243275c2"
      },
      "execution_count": null,
      "outputs": [
        {
          "output_type": "execute_result",
          "data": {
            "text/plain": [
              "(2082,)"
            ]
          },
          "metadata": {},
          "execution_count": 21
        }
      ]
    },
    {
      "cell_type": "code",
      "source": [
        "x_tweet_train.shape"
      ],
      "metadata": {
        "execution": {
          "iopub.status.busy": "2023-03-06T17:57:59.818326Z",
          "iopub.execute_input": "2023-03-06T17:57:59.819004Z",
          "iopub.status.idle": "2023-03-06T17:57:59.830439Z",
          "shell.execute_reply.started": "2023-03-06T17:57:59.818937Z",
          "shell.execute_reply": "2023-03-06T17:57:59.829267Z"
        },
        "trusted": true,
        "colab": {
          "base_uri": "https://localhost:8080/"
        },
        "id": "Xwg-Y7ZdJsdu",
        "outputId": "73d31656-00e0-45f6-d2b0-584a8b52d6bc"
      },
      "execution_count": null,
      "outputs": [
        {
          "output_type": "execute_result",
          "data": {
            "text/plain": [
              "(6244,)"
            ]
          },
          "metadata": {},
          "execution_count": 22
        }
      ]
    },
    {
      "cell_type": "code",
      "source": [
        "from sklearn.feature_extraction.text import TfidfVectorizer\n",
        "tfidf_vectorizer = TfidfVectorizer(stop_words = stopwords.words('english'))\n",
        "tfidf_train = tfidf_vectorizer.fit_transform(x_tweet_train)\n",
        "tfidf_test = tfidf_vectorizer.transform(x_tweet_test)\n",
        "tfidf_test.shape"
      ],
      "metadata": {
        "execution": {
          "iopub.status.busy": "2023-03-06T17:57:59.831709Z",
          "iopub.execute_input": "2023-03-06T17:57:59.832645Z",
          "iopub.status.idle": "2023-03-06T17:58:00.347743Z",
          "shell.execute_reply.started": "2023-03-06T17:57:59.832608Z",
          "shell.execute_reply": "2023-03-06T17:58:00.346546Z"
        },
        "trusted": true,
        "colab": {
          "base_uri": "https://localhost:8080/"
        },
        "id": "OWNRerpLJsdu",
        "outputId": "92126228-cf0c-4613-d3b1-0c1ca66c8095"
      },
      "execution_count": null,
      "outputs": [
        {
          "output_type": "execute_result",
          "data": {
            "text/plain": [
              "(2082, 13246)"
            ]
          },
          "metadata": {},
          "execution_count": 61
        }
      ]
    },
    {
      "cell_type": "code",
      "source": [
        "tfidf_test_hate = tfidf_vectorizer.transform(x_tweet_test_hate)"
      ],
      "metadata": {
        "id": "p2Buxax5zeSJ"
      },
      "execution_count": null,
      "outputs": []
    },
    {
      "cell_type": "code",
      "source": [
        "tfidf_test.toarray()"
      ],
      "metadata": {
        "execution": {
          "iopub.status.busy": "2023-03-06T17:58:00.349248Z",
          "iopub.execute_input": "2023-03-06T17:58:00.349602Z",
          "iopub.status.idle": "2023-03-06T17:58:00.805666Z",
          "shell.execute_reply.started": "2023-03-06T17:58:00.349569Z",
          "shell.execute_reply": "2023-03-06T17:58:00.804409Z"
        },
        "trusted": true,
        "colab": {
          "base_uri": "https://localhost:8080/"
        },
        "id": "tjZCZJsuJsdu",
        "outputId": "5bdc1e6b-6624-4d3b-a638-bd0a014ca360"
      },
      "execution_count": null,
      "outputs": [
        {
          "output_type": "execute_result",
          "data": {
            "text/plain": [
              "array([[0., 0., 0., ..., 0., 0., 0.],\n",
              "       [0., 0., 0., ..., 0., 0., 0.],\n",
              "       [0., 0., 0., ..., 0., 0., 0.],\n",
              "       ...,\n",
              "       [0., 0., 0., ..., 0., 0., 0.],\n",
              "       [0., 0., 0., ..., 0., 0., 0.],\n",
              "       [0., 0., 0., ..., 0., 0., 0.]])"
            ]
          },
          "metadata": {},
          "execution_count": 63
        }
      ]
    },
    {
      "cell_type": "code",
      "source": [
        "#lists all the unique words it vectorized\n",
        "#tfidf_vectorizer.vocabulary_"
      ],
      "metadata": {
        "execution": {
          "iopub.status.busy": "2023-03-06T17:58:00.806901Z",
          "iopub.execute_input": "2023-03-06T17:58:00.807893Z",
          "iopub.status.idle": "2023-03-06T17:58:00.811560Z",
          "shell.execute_reply.started": "2023-03-06T17:58:00.807856Z",
          "shell.execute_reply": "2023-03-06T17:58:00.810339Z"
        },
        "trusted": true,
        "id": "TY4dHTJYJsdu"
      },
      "execution_count": null,
      "outputs": []
    },
    {
      "cell_type": "code",
      "source": [
        "y_class_test = y_class_test.squeeze()\n",
        "type(y_class_test)"
      ],
      "metadata": {
        "execution": {
          "iopub.status.busy": "2023-03-06T17:58:00.812939Z",
          "iopub.execute_input": "2023-03-06T17:58:00.813304Z",
          "iopub.status.idle": "2023-03-06T17:58:00.828502Z",
          "shell.execute_reply.started": "2023-03-06T17:58:00.813270Z",
          "shell.execute_reply": "2023-03-06T17:58:00.826884Z"
        },
        "trusted": true,
        "colab": {
          "base_uri": "https://localhost:8080/"
        },
        "id": "sMbgt6-6Jsdu",
        "outputId": "b5bad736-a3e4-44a5-934f-53a3e3016ff2"
      },
      "execution_count": null,
      "outputs": [
        {
          "output_type": "execute_result",
          "data": {
            "text/plain": [
              "pandas.core.series.Series"
            ]
          },
          "metadata": {},
          "execution_count": 64
        }
      ]
    },
    {
      "cell_type": "code",
      "source": [
        "y_class_train = y_class_train.squeeze()\n",
        "type(y_class_train)"
      ],
      "metadata": {
        "execution": {
          "iopub.status.busy": "2023-03-06T17:58:00.830499Z",
          "iopub.execute_input": "2023-03-06T17:58:00.831356Z",
          "iopub.status.idle": "2023-03-06T17:58:00.841513Z",
          "shell.execute_reply.started": "2023-03-06T17:58:00.831313Z",
          "shell.execute_reply": "2023-03-06T17:58:00.840136Z"
        },
        "trusted": true,
        "colab": {
          "base_uri": "https://localhost:8080/"
        },
        "id": "nxQNuF-kJsdu",
        "outputId": "06be5164-7b54-43e9-b2e3-3ff25d96d33d"
      },
      "execution_count": null,
      "outputs": [
        {
          "output_type": "execute_result",
          "data": {
            "text/plain": [
              "pandas.core.series.Series"
            ]
          },
          "metadata": {},
          "execution_count": 65
        }
      ]
    },
    {
      "cell_type": "code",
      "source": [
        "#import pretrained model, import accuracy finder package (accuracy_score)\n",
        "from sklearn.metrics import accuracy_score\n",
        "#this pretrained model uses linear, while other was naive bayes\n",
        "from sklearn.linear_model import PassiveAggressiveClassifier\n",
        "\n",
        "#Finding best parameters using Grid Search\n",
        "#testing following hyper parameter values:\n",
        "#C=1.0, validation_fraction=0.1, class_weight=None\n",
        "estimator = PassiveAggressiveClassifier()\n",
        "\n",
        "hparams = {\"C\": [0.1, 1, 10, 100],\n",
        "           \"verbose\": [0,1,2],\n",
        "           \"class_weight\": [\"balanced\"]}\n",
        "###from sklearn.model_selection import GridSearchCV\n",
        "###GS_estimator = GridSearchCV(estimator, hparams, cv=5, scoring=\"accuracy\")\n",
        "###GS_estimator.fit(tfidf_train, y_class_train)\n",
        "###print(GS_estimator.best_params_)\n",
        "\n"
      ],
      "metadata": {
        "execution": {
          "iopub.status.busy": "2023-03-06T17:58:00.843057Z",
          "iopub.execute_input": "2023-03-06T17:58:00.843405Z",
          "iopub.status.idle": "2023-03-06T17:58:01.232921Z",
          "shell.execute_reply.started": "2023-03-06T17:58:00.843371Z",
          "shell.execute_reply": "2023-03-06T17:58:01.231509Z"
        },
        "trusted": true,
        "id": "0aK7jopfJsdv"
      },
      "execution_count": null,
      "outputs": []
    },
    {
      "cell_type": "code",
      "source": [
        "from sklearn.metrics import accuracy_score\n",
        "from sklearn.linear_model import PassiveAggressiveClassifier\n",
        "#instantiate instance of own pretrained model\n",
        "pac = PassiveAggressiveClassifier(C=0.1,class_weight='balanced')\n",
        "\n",
        "\n",
        "\n",
        "#trains her pretrained model adapted to her own dataset using transfer learning\n",
        "pac.fit(tfidf_train, y_class_train)\n",
        "\n",
        "y_pred = pac.predict(tfidf_test) #Test or something\n",
        "score = accuracy_score(y_class_test, y_pred)\n",
        "print(f'Accuracy: {round(score*100,2)}%')"
      ],
      "metadata": {
        "colab": {
          "base_uri": "https://localhost:8080/"
        },
        "id": "gQLyYV_-4GeQ",
        "outputId": "f9219556-d219-4d58-a620-da72e937626e"
      },
      "execution_count": null,
      "outputs": [
        {
          "output_type": "stream",
          "name": "stdout",
          "text": [
            "Accuracy: 93.52%\n"
          ]
        }
      ]
    },
    {
      "cell_type": "code",
      "source": [
        "y_pred_hate = pac.predict(tfidf_test_hate) #Test or something\n",
        "score = accuracy_score(y_class_test_hate, y_pred_hate)\n",
        "print(f'Accuracy: {round(score*100,2)}%')"
      ],
      "metadata": {
        "colab": {
          "base_uri": "https://localhost:8080/"
        },
        "id": "SgaqNXwCzq8H",
        "outputId": "a9d5de77-1682-4fb9-8a64-2d91ef54510c"
      },
      "execution_count": null,
      "outputs": [
        {
          "output_type": "stream",
          "name": "stdout",
          "text": [
            "Accuracy: 91.12%\n"
          ]
        }
      ]
    },
    {
      "cell_type": "code",
      "source": [
        "print(tfidf_test_hate)\n",
        "print(y_class_test_hate)\n",
        "print(y_pred_hate)"
      ],
      "metadata": {
        "colab": {
          "base_uri": "https://localhost:8080/"
        },
        "id": "rU0ilbbvz7Wj",
        "outputId": "bcdc1a5f-e8ab-47e3-800e-89f597136403"
      },
      "execution_count": null,
      "outputs": [
        {
          "output_type": "stream",
          "name": "stdout",
          "text": [
            "  (0, 12865)\t0.47036385222761806\n",
            "  (0, 11402)\t0.3125090482788142\n",
            "  (0, 10468)\t0.45779883141008276\n",
            "  (0, 9424)\t0.40399480647880753\n",
            "  (0, 8334)\t0.3743709582296751\n",
            "  (0, 2046)\t0.37973779220857\n",
            "  (0, 1714)\t0.15475775380230353\n",
            "  (1, 12655)\t0.339774675542785\n",
            "  (1, 11581)\t0.22283369216424995\n",
            "  (1, 10599)\t0.3245457513979161\n",
            "  (1, 9563)\t0.3137406577619968\n",
            "  (1, 6758)\t0.2724777158363398\n",
            "  (1, 6631)\t0.17291247794735368\n",
            "  (1, 5513)\t0.2114077720242768\n",
            "  (1, 5189)\t0.3137406577619968\n",
            "  (1, 4384)\t0.29272196536574235\n",
            "  (1, 3699)\t0.339774675542785\n",
            "  (1, 3592)\t0.339774675542785\n",
            "  (1, 2533)\t0.25939561303615094\n",
            "  (2, 13128)\t0.39999920994819776\n",
            "  (2, 11608)\t0.4904935568037989\n",
            "  (2, 5648)\t0.37657917496066085\n",
            "  (2, 4857)\t0.39999920994819776\n",
            "  (2, 3979)\t0.4193564481500972\n",
            "  (2, 2751)\t0.1761981400604953\n",
            "  :\t:\n",
            "  (1032, 5065)\t0.1862760523530421\n",
            "  (1032, 2751)\t0.12487443067625763\n",
            "  (1032, 563)\t0.17637062789609714\n",
            "  (1032, 157)\t0.6422187579867294\n",
            "  (1032, 118)\t0.2928271403039847\n",
            "  (1033, 11282)\t0.2754657445149092\n",
            "  (1033, 10364)\t0.2487236132422086\n",
            "  (1033, 8262)\t0.29832373219765157\n",
            "  (1033, 8174)\t0.2754657445149092\n",
            "  (1033, 6203)\t0.29832373219765157\n",
            "  (1033, 6202)\t0.29832373219765157\n",
            "  (1033, 5866)\t0.26209467887855886\n",
            "  (1033, 5402)\t0.2849526665613012\n",
            "  (1033, 3331)\t0.29832373219765157\n",
            "  (1033, 1715)\t0.12060774535334368\n",
            "  (1033, 1714)\t0.09063294228225868\n",
            "  (1033, 1018)\t0.14902949522187828\n",
            "  (1033, 175)\t0.14301705801319195\n",
            "  (1033, 121)\t0.46375612553630513\n",
            "  (1034, 2751)\t1.0\n",
            "  (1035, 10417)\t0.6487027065939331\n",
            "  (1035, 8095)\t0.3600509067521732\n",
            "  (1035, 6631)\t0.3301269945122429\n",
            "  (1035, 1888)\t0.549293662815535\n",
            "  (1035, 1714)\t0.1970806497088191\n",
            "916     0\n",
            "1768    0\n",
            "3726    0\n",
            "1066    0\n",
            "2521    0\n",
            "       ..\n",
            "2329    0\n",
            "1173    0\n",
            "1027    0\n",
            "443     0\n",
            "84      0\n",
            "Name: class, Length: 1036, dtype: int64\n",
            "[0 0 0 ... 0 1 0]\n"
          ]
        }
      ]
    },
    {
      "cell_type": "code",
      "source": [
        "resampled_df = pd.concat([x_tweet, y_class], axis=1)\n",
        "resampled_df.head()"
      ],
      "metadata": {
        "colab": {
          "base_uri": "https://localhost:8080/",
          "height": 206
        },
        "id": "72piYdIWMg_q",
        "outputId": "7d42d014-fc84-401d-dff8-4c8043fb2978"
      },
      "execution_count": null,
      "outputs": [
        {
          "output_type": "execute_result",
          "data": {
            "text/plain": [
              "                                               tweet  class\n",
              "0   When you listening to a bitch complaining abo...      0\n",
              "1   Bae: go text your hoes \\nMe: https://t.co/5PA...      0\n",
              "2                @kingjvsh @_hanimA Don't be a bitch      0\n",
              "3     You lil stupid ass bitch i aint fuckin wit you      0\n",
              "4  Oh I'm nasty for smoking cigarettes? And you'r...      0"
            ],
            "text/html": [
              "\n",
              "  <div id=\"df-f313f70c-01f7-4e73-bfba-23a667392543\">\n",
              "    <div class=\"colab-df-container\">\n",
              "      <div>\n",
              "<style scoped>\n",
              "    .dataframe tbody tr th:only-of-type {\n",
              "        vertical-align: middle;\n",
              "    }\n",
              "\n",
              "    .dataframe tbody tr th {\n",
              "        vertical-align: top;\n",
              "    }\n",
              "\n",
              "    .dataframe thead th {\n",
              "        text-align: right;\n",
              "    }\n",
              "</style>\n",
              "<table border=\"1\" class=\"dataframe\">\n",
              "  <thead>\n",
              "    <tr style=\"text-align: right;\">\n",
              "      <th></th>\n",
              "      <th>tweet</th>\n",
              "      <th>class</th>\n",
              "    </tr>\n",
              "  </thead>\n",
              "  <tbody>\n",
              "    <tr>\n",
              "      <th>0</th>\n",
              "      <td>When you listening to a bitch complaining abo...</td>\n",
              "      <td>0</td>\n",
              "    </tr>\n",
              "    <tr>\n",
              "      <th>1</th>\n",
              "      <td>Bae: go text your hoes \\nMe: https://t.co/5PA...</td>\n",
              "      <td>0</td>\n",
              "    </tr>\n",
              "    <tr>\n",
              "      <th>2</th>\n",
              "      <td>@kingjvsh @_hanimA Don't be a bitch</td>\n",
              "      <td>0</td>\n",
              "    </tr>\n",
              "    <tr>\n",
              "      <th>3</th>\n",
              "      <td>You lil stupid ass bitch i aint fuckin wit you</td>\n",
              "      <td>0</td>\n",
              "    </tr>\n",
              "    <tr>\n",
              "      <th>4</th>\n",
              "      <td>Oh I'm nasty for smoking cigarettes? And you'r...</td>\n",
              "      <td>0</td>\n",
              "    </tr>\n",
              "  </tbody>\n",
              "</table>\n",
              "</div>\n",
              "      <button class=\"colab-df-convert\" onclick=\"convertToInteractive('df-f313f70c-01f7-4e73-bfba-23a667392543')\"\n",
              "              title=\"Convert this dataframe to an interactive table.\"\n",
              "              style=\"display:none;\">\n",
              "        \n",
              "  <svg xmlns=\"http://www.w3.org/2000/svg\" height=\"24px\"viewBox=\"0 0 24 24\"\n",
              "       width=\"24px\">\n",
              "    <path d=\"M0 0h24v24H0V0z\" fill=\"none\"/>\n",
              "    <path d=\"M18.56 5.44l.94 2.06.94-2.06 2.06-.94-2.06-.94-.94-2.06-.94 2.06-2.06.94zm-11 1L8.5 8.5l.94-2.06 2.06-.94-2.06-.94L8.5 2.5l-.94 2.06-2.06.94zm10 10l.94 2.06.94-2.06 2.06-.94-2.06-.94-.94-2.06-.94 2.06-2.06.94z\"/><path d=\"M17.41 7.96l-1.37-1.37c-.4-.4-.92-.59-1.43-.59-.52 0-1.04.2-1.43.59L10.3 9.45l-7.72 7.72c-.78.78-.78 2.05 0 2.83L4 21.41c.39.39.9.59 1.41.59.51 0 1.02-.2 1.41-.59l7.78-7.78 2.81-2.81c.8-.78.8-2.07 0-2.86zM5.41 20L4 18.59l7.72-7.72 1.47 1.35L5.41 20z\"/>\n",
              "  </svg>\n",
              "      </button>\n",
              "      \n",
              "  <style>\n",
              "    .colab-df-container {\n",
              "      display:flex;\n",
              "      flex-wrap:wrap;\n",
              "      gap: 12px;\n",
              "    }\n",
              "\n",
              "    .colab-df-convert {\n",
              "      background-color: #E8F0FE;\n",
              "      border: none;\n",
              "      border-radius: 50%;\n",
              "      cursor: pointer;\n",
              "      display: none;\n",
              "      fill: #1967D2;\n",
              "      height: 32px;\n",
              "      padding: 0 0 0 0;\n",
              "      width: 32px;\n",
              "    }\n",
              "\n",
              "    .colab-df-convert:hover {\n",
              "      background-color: #E2EBFA;\n",
              "      box-shadow: 0px 1px 2px rgba(60, 64, 67, 0.3), 0px 1px 3px 1px rgba(60, 64, 67, 0.15);\n",
              "      fill: #174EA6;\n",
              "    }\n",
              "\n",
              "    [theme=dark] .colab-df-convert {\n",
              "      background-color: #3B4455;\n",
              "      fill: #D2E3FC;\n",
              "    }\n",
              "\n",
              "    [theme=dark] .colab-df-convert:hover {\n",
              "      background-color: #434B5C;\n",
              "      box-shadow: 0px 1px 3px 1px rgba(0, 0, 0, 0.15);\n",
              "      filter: drop-shadow(0px 1px 2px rgba(0, 0, 0, 0.3));\n",
              "      fill: #FFFFFF;\n",
              "    }\n",
              "  </style>\n",
              "\n",
              "      <script>\n",
              "        const buttonEl =\n",
              "          document.querySelector('#df-f313f70c-01f7-4e73-bfba-23a667392543 button.colab-df-convert');\n",
              "        buttonEl.style.display =\n",
              "          google.colab.kernel.accessAllowed ? 'block' : 'none';\n",
              "\n",
              "        async function convertToInteractive(key) {\n",
              "          const element = document.querySelector('#df-f313f70c-01f7-4e73-bfba-23a667392543');\n",
              "          const dataTable =\n",
              "            await google.colab.kernel.invokeFunction('convertToInteractive',\n",
              "                                                     [key], {});\n",
              "          if (!dataTable) return;\n",
              "\n",
              "          const docLinkHtml = 'Like what you see? Visit the ' +\n",
              "            '<a target=\"_blank\" href=https://colab.research.google.com/notebooks/data_table.ipynb>data table notebook</a>'\n",
              "            + ' to learn more about interactive tables.';\n",
              "          element.innerHTML = '';\n",
              "          dataTable['output_type'] = 'display_data';\n",
              "          await google.colab.output.renderOutput(dataTable, element);\n",
              "          const docLink = document.createElement('div');\n",
              "          docLink.innerHTML = docLinkHtml;\n",
              "          element.appendChild(docLink);\n",
              "        }\n",
              "      </script>\n",
              "    </div>\n",
              "  </div>\n",
              "  "
            ]
          },
          "metadata": {},
          "execution_count": 35
        }
      ]
    },
    {
      "cell_type": "code",
      "source": [
        "hate_data_eda = pd.read_csv(\"/content/drive/MyDrive/ACMResearch/augmented_hate_tweets.csv\")\n",
        "hate_df = pd.DataFrame(hate_data_eda) \n",
        "normal_df = resampled_df[resampled_df['class'] == 1]\n",
        "df_combine = pd.concat([hate_df, normal_df])\n",
        "#df_combine = df_combine.dropna()\n",
        "df_combine_class = df_combine['class']\n",
        "df_combine_tweet = df_combine['tweet']\n",
        "df_combine.head()"
      ],
      "metadata": {
        "colab": {
          "base_uri": "https://localhost:8080/",
          "height": 206
        },
        "id": "Y6a1zOctVXw3",
        "outputId": "abe61043-4817-4f6b-f5b4-db8ca2b35982"
      },
      "execution_count": null,
      "outputs": [
        {
          "output_type": "execute_result",
          "data": {
            "text/plain": [
              "   Unnamed: 0  Tweets                                                  0  \\\n",
              "0         0.0     NaN  \"@Blackman38Tide: @WhaleLookyHere @HowdyDowdy1...   \n",
              "1         0.0     NaN  \"@CB_Baby24: @white_thunduh alsarabsss\" hes a ...   \n",
              "2         0.0     NaN  \"@DevilGrimz: @VigxRArts you're blooming jovia...   \n",
              "3         0.0     NaN  \"@MarkRoundtreeJr: LMFAOOOO why HATE BLACK PEO...   \n",
              "4         0.0     NaN  \"@NoChillPaz: \"At least I'm RGJa7CfoiT a nigge...   \n",
              "\n",
              "  tweet  class  \n",
              "0   NaN    NaN  \n",
              "1   NaN    NaN  \n",
              "2   NaN    NaN  \n",
              "3   NaN    NaN  \n",
              "4   NaN    NaN  "
            ],
            "text/html": [
              "\n",
              "  <div id=\"df-65e7f33e-f833-47ee-8f19-1883230e27b3\">\n",
              "    <div class=\"colab-df-container\">\n",
              "      <div>\n",
              "<style scoped>\n",
              "    .dataframe tbody tr th:only-of-type {\n",
              "        vertical-align: middle;\n",
              "    }\n",
              "\n",
              "    .dataframe tbody tr th {\n",
              "        vertical-align: top;\n",
              "    }\n",
              "\n",
              "    .dataframe thead th {\n",
              "        text-align: right;\n",
              "    }\n",
              "</style>\n",
              "<table border=\"1\" class=\"dataframe\">\n",
              "  <thead>\n",
              "    <tr style=\"text-align: right;\">\n",
              "      <th></th>\n",
              "      <th>Unnamed: 0</th>\n",
              "      <th>Tweets</th>\n",
              "      <th>0</th>\n",
              "      <th>tweet</th>\n",
              "      <th>class</th>\n",
              "    </tr>\n",
              "  </thead>\n",
              "  <tbody>\n",
              "    <tr>\n",
              "      <th>0</th>\n",
              "      <td>0.0</td>\n",
              "      <td>NaN</td>\n",
              "      <td>\"@Blackman38Tide: @WhaleLookyHere @HowdyDowdy1...</td>\n",
              "      <td>NaN</td>\n",
              "      <td>NaN</td>\n",
              "    </tr>\n",
              "    <tr>\n",
              "      <th>1</th>\n",
              "      <td>0.0</td>\n",
              "      <td>NaN</td>\n",
              "      <td>\"@CB_Baby24: @white_thunduh alsarabsss\" hes a ...</td>\n",
              "      <td>NaN</td>\n",
              "      <td>NaN</td>\n",
              "    </tr>\n",
              "    <tr>\n",
              "      <th>2</th>\n",
              "      <td>0.0</td>\n",
              "      <td>NaN</td>\n",
              "      <td>\"@DevilGrimz: @VigxRArts you're blooming jovia...</td>\n",
              "      <td>NaN</td>\n",
              "      <td>NaN</td>\n",
              "    </tr>\n",
              "    <tr>\n",
              "      <th>3</th>\n",
              "      <td>0.0</td>\n",
              "      <td>NaN</td>\n",
              "      <td>\"@MarkRoundtreeJr: LMFAOOOO why HATE BLACK PEO...</td>\n",
              "      <td>NaN</td>\n",
              "      <td>NaN</td>\n",
              "    </tr>\n",
              "    <tr>\n",
              "      <th>4</th>\n",
              "      <td>0.0</td>\n",
              "      <td>NaN</td>\n",
              "      <td>\"@NoChillPaz: \"At least I'm RGJa7CfoiT a nigge...</td>\n",
              "      <td>NaN</td>\n",
              "      <td>NaN</td>\n",
              "    </tr>\n",
              "  </tbody>\n",
              "</table>\n",
              "</div>\n",
              "      <button class=\"colab-df-convert\" onclick=\"convertToInteractive('df-65e7f33e-f833-47ee-8f19-1883230e27b3')\"\n",
              "              title=\"Convert this dataframe to an interactive table.\"\n",
              "              style=\"display:none;\">\n",
              "        \n",
              "  <svg xmlns=\"http://www.w3.org/2000/svg\" height=\"24px\"viewBox=\"0 0 24 24\"\n",
              "       width=\"24px\">\n",
              "    <path d=\"M0 0h24v24H0V0z\" fill=\"none\"/>\n",
              "    <path d=\"M18.56 5.44l.94 2.06.94-2.06 2.06-.94-2.06-.94-.94-2.06-.94 2.06-2.06.94zm-11 1L8.5 8.5l.94-2.06 2.06-.94-2.06-.94L8.5 2.5l-.94 2.06-2.06.94zm10 10l.94 2.06.94-2.06 2.06-.94-2.06-.94-.94-2.06-.94 2.06-2.06.94z\"/><path d=\"M17.41 7.96l-1.37-1.37c-.4-.4-.92-.59-1.43-.59-.52 0-1.04.2-1.43.59L10.3 9.45l-7.72 7.72c-.78.78-.78 2.05 0 2.83L4 21.41c.39.39.9.59 1.41.59.51 0 1.02-.2 1.41-.59l7.78-7.78 2.81-2.81c.8-.78.8-2.07 0-2.86zM5.41 20L4 18.59l7.72-7.72 1.47 1.35L5.41 20z\"/>\n",
              "  </svg>\n",
              "      </button>\n",
              "      \n",
              "  <style>\n",
              "    .colab-df-container {\n",
              "      display:flex;\n",
              "      flex-wrap:wrap;\n",
              "      gap: 12px;\n",
              "    }\n",
              "\n",
              "    .colab-df-convert {\n",
              "      background-color: #E8F0FE;\n",
              "      border: none;\n",
              "      border-radius: 50%;\n",
              "      cursor: pointer;\n",
              "      display: none;\n",
              "      fill: #1967D2;\n",
              "      height: 32px;\n",
              "      padding: 0 0 0 0;\n",
              "      width: 32px;\n",
              "    }\n",
              "\n",
              "    .colab-df-convert:hover {\n",
              "      background-color: #E2EBFA;\n",
              "      box-shadow: 0px 1px 2px rgba(60, 64, 67, 0.3), 0px 1px 3px 1px rgba(60, 64, 67, 0.15);\n",
              "      fill: #174EA6;\n",
              "    }\n",
              "\n",
              "    [theme=dark] .colab-df-convert {\n",
              "      background-color: #3B4455;\n",
              "      fill: #D2E3FC;\n",
              "    }\n",
              "\n",
              "    [theme=dark] .colab-df-convert:hover {\n",
              "      background-color: #434B5C;\n",
              "      box-shadow: 0px 1px 3px 1px rgba(0, 0, 0, 0.15);\n",
              "      filter: drop-shadow(0px 1px 2px rgba(0, 0, 0, 0.3));\n",
              "      fill: #FFFFFF;\n",
              "    }\n",
              "  </style>\n",
              "\n",
              "      <script>\n",
              "        const buttonEl =\n",
              "          document.querySelector('#df-65e7f33e-f833-47ee-8f19-1883230e27b3 button.colab-df-convert');\n",
              "        buttonEl.style.display =\n",
              "          google.colab.kernel.accessAllowed ? 'block' : 'none';\n",
              "\n",
              "        async function convertToInteractive(key) {\n",
              "          const element = document.querySelector('#df-65e7f33e-f833-47ee-8f19-1883230e27b3');\n",
              "          const dataTable =\n",
              "            await google.colab.kernel.invokeFunction('convertToInteractive',\n",
              "                                                     [key], {});\n",
              "          if (!dataTable) return;\n",
              "\n",
              "          const docLinkHtml = 'Like what you see? Visit the ' +\n",
              "            '<a target=\"_blank\" href=https://colab.research.google.com/notebooks/data_table.ipynb>data table notebook</a>'\n",
              "            + ' to learn more about interactive tables.';\n",
              "          element.innerHTML = '';\n",
              "          dataTable['output_type'] = 'display_data';\n",
              "          await google.colab.output.renderOutput(dataTable, element);\n",
              "          const docLink = document.createElement('div');\n",
              "          docLink.innerHTML = docLinkHtml;\n",
              "          element.appendChild(docLink);\n",
              "        }\n",
              "      </script>\n",
              "    </div>\n",
              "  </div>\n",
              "  "
            ]
          },
          "metadata": {},
          "execution_count": 55
        }
      ]
    },
    {
      "cell_type": "code",
      "source": [
        "#eda\n",
        "hate_data_eda = pd.read_csv(\"/content/drive/MyDrive/ACMResearch/augmented_hate_tweets.csv\")\n",
        "hate_df = pd.DataFrame(hate_data_eda) \n",
        "normal_df = resampled_df[resampled_df['class'] == 1]\n",
        "df_combine = pd.concat([hate_df, normal_df])\n",
        "df_combine = df_combine.dropna()\n",
        "df_combine_class = df_combine['class']\n",
        "df_combine_tweet = df_combine['tweet']\n",
        "\n",
        "#hate_tweet = hate_df[['0']] #takes all hate tweets from augmented_hate_tweets.csv\n",
        "#hate_class =hate_df.iloc[:, 0] #takes all the class numbers from csv file and puts them in here\n",
        "\n",
        "#hate_tweet = hate_tweet.squeeze()\n",
        "#hate_class = hate_class.squeeze()\n",
        "\n",
        "df_combine_tweet = df_combine_tweet.squeeze()\n",
        "df_combine_class = df_combine_class.squeeze()\n",
        "\n",
        "tfidf_test_hate = tfidf_vectorizer.transform(df_combine_tweet)\n",
        "y_pred = pac.predict(tfidf_test_hate)\n",
        "\n",
        "score = accuracy_score(df_combine_class, y_pred)\n",
        "print(f'% of Predicted Hate still being Predicted as Hate (PAC): {round(score*100,2)}%')\n",
        "\n",
        "#word embedding\n",
        "hate_data_glove = pd.read_csv(\"/content/drive/MyDrive/ACMResearch/word_embedding_glove.csv\")\n",
        "hate_df_2 = pd.DataFrame(hate_data_glove)\n",
        "df_combine = pd.concat([hate_df_2, normal_df])\n",
        "df_combine_class = df_combine['class']\n",
        "df_combine_tweet = df_combine['tweet']\n",
        "\n",
        "hate_tweet_2 = hate_df_2[['tweet']]\n",
        "#hate_class_2 = hate_df_2.iloc[:, ]\n",
        "\n",
        "#hate_tweet_2 = hate_tweet_2.squeeze()\n",
        "#hate_class_2 = hate_class_2.squeeze()\n",
        "\n",
        "df_combine_tweet = df_combine_tweet.squeeze()\n",
        "df_combine_class = df_combine_class.squeeze()\n",
        "\n",
        "tfidf_test_hate_2 = tfidf_vectorizer.transform(df_combine_tweet)\n",
        "y_pred_2 = pac.predict(tfidf_test_hate_2)\n",
        "\n",
        "score = accuracy_score(df_combine_class, y_pred_2)\n",
        "print(f'% of Predicted Hate still being Predicted as Hate (PAC): {round(score*100,2)}%')\n"
      ],
      "metadata": {
        "id": "sdagsCUcHw3F",
        "colab": {
          "base_uri": "https://localhost:8080/",
          "height": 397
        },
        "outputId": "a9ba0624-a6ff-47ff-aee7-243341e369b2"
      },
      "execution_count": null,
      "outputs": [
        {
          "output_type": "error",
          "ename": "ValueError",
          "evalue": "ignored",
          "traceback": [
            "\u001b[0;31m---------------------------------------------------------------------------\u001b[0m",
            "\u001b[0;31mValueError\u001b[0m                                Traceback (most recent call last)",
            "\u001b[0;32m<ipython-input-48-3970ca3ed54a>\u001b[0m in \u001b[0;36m<cell line: 19>\u001b[0;34m()\u001b[0m\n\u001b[1;32m     17\u001b[0m \u001b[0mdf_combine_class\u001b[0m \u001b[0;34m=\u001b[0m \u001b[0mdf_combine_class\u001b[0m\u001b[0;34m.\u001b[0m\u001b[0msqueeze\u001b[0m\u001b[0;34m(\u001b[0m\u001b[0;34m)\u001b[0m\u001b[0;34m\u001b[0m\u001b[0;34m\u001b[0m\u001b[0m\n\u001b[1;32m     18\u001b[0m \u001b[0;34m\u001b[0m\u001b[0m\n\u001b[0;32m---> 19\u001b[0;31m \u001b[0mtfidf_test_hate\u001b[0m \u001b[0;34m=\u001b[0m \u001b[0mtfidf_vectorizer\u001b[0m\u001b[0;34m.\u001b[0m\u001b[0mtransform\u001b[0m\u001b[0;34m(\u001b[0m\u001b[0mdf_combine_tweet\u001b[0m\u001b[0;34m)\u001b[0m\u001b[0;34m\u001b[0m\u001b[0;34m\u001b[0m\u001b[0m\n\u001b[0m\u001b[1;32m     20\u001b[0m \u001b[0my_pred\u001b[0m \u001b[0;34m=\u001b[0m \u001b[0mpac\u001b[0m\u001b[0;34m.\u001b[0m\u001b[0mpredict\u001b[0m\u001b[0;34m(\u001b[0m\u001b[0mtfidf_test_hate\u001b[0m\u001b[0;34m)\u001b[0m\u001b[0;34m\u001b[0m\u001b[0;34m\u001b[0m\u001b[0m\n\u001b[1;32m     21\u001b[0m \u001b[0;34m\u001b[0m\u001b[0m\n",
            "\u001b[0;32m/usr/local/lib/python3.10/dist-packages/sklearn/feature_extraction/text.py\u001b[0m in \u001b[0;36mtransform\u001b[0;34m(self, raw_documents)\u001b[0m\n\u001b[1;32m   2156\u001b[0m \u001b[0;34m\u001b[0m\u001b[0m\n\u001b[1;32m   2157\u001b[0m         \u001b[0mX\u001b[0m \u001b[0;34m=\u001b[0m \u001b[0msuper\u001b[0m\u001b[0;34m(\u001b[0m\u001b[0;34m)\u001b[0m\u001b[0;34m.\u001b[0m\u001b[0mtransform\u001b[0m\u001b[0;34m(\u001b[0m\u001b[0mraw_documents\u001b[0m\u001b[0;34m)\u001b[0m\u001b[0;34m\u001b[0m\u001b[0;34m\u001b[0m\u001b[0m\n\u001b[0;32m-> 2158\u001b[0;31m         \u001b[0;32mreturn\u001b[0m \u001b[0mself\u001b[0m\u001b[0;34m.\u001b[0m\u001b[0m_tfidf\u001b[0m\u001b[0;34m.\u001b[0m\u001b[0mtransform\u001b[0m\u001b[0;34m(\u001b[0m\u001b[0mX\u001b[0m\u001b[0;34m,\u001b[0m \u001b[0mcopy\u001b[0m\u001b[0;34m=\u001b[0m\u001b[0;32mFalse\u001b[0m\u001b[0;34m)\u001b[0m\u001b[0;34m\u001b[0m\u001b[0;34m\u001b[0m\u001b[0m\n\u001b[0m\u001b[1;32m   2159\u001b[0m \u001b[0;34m\u001b[0m\u001b[0m\n\u001b[1;32m   2160\u001b[0m     \u001b[0;32mdef\u001b[0m \u001b[0m_more_tags\u001b[0m\u001b[0;34m(\u001b[0m\u001b[0mself\u001b[0m\u001b[0;34m)\u001b[0m\u001b[0;34m:\u001b[0m\u001b[0;34m\u001b[0m\u001b[0;34m\u001b[0m\u001b[0m\n",
            "\u001b[0;32m/usr/local/lib/python3.10/dist-packages/sklearn/feature_extraction/text.py\u001b[0m in \u001b[0;36mtransform\u001b[0;34m(self, X, copy)\u001b[0m\n\u001b[1;32m   1708\u001b[0m             \u001b[0mTf\u001b[0m\u001b[0;34m-\u001b[0m\u001b[0midf\u001b[0m\u001b[0;34m-\u001b[0m\u001b[0mweighted\u001b[0m \u001b[0mdocument\u001b[0m\u001b[0;34m-\u001b[0m\u001b[0mterm\u001b[0m \u001b[0mmatrix\u001b[0m\u001b[0;34m.\u001b[0m\u001b[0;34m\u001b[0m\u001b[0;34m\u001b[0m\u001b[0m\n\u001b[1;32m   1709\u001b[0m         \"\"\"\n\u001b[0;32m-> 1710\u001b[0;31m         X = self._validate_data(\n\u001b[0m\u001b[1;32m   1711\u001b[0m             \u001b[0mX\u001b[0m\u001b[0;34m,\u001b[0m \u001b[0maccept_sparse\u001b[0m\u001b[0;34m=\u001b[0m\u001b[0;34m\"csr\"\u001b[0m\u001b[0;34m,\u001b[0m \u001b[0mdtype\u001b[0m\u001b[0;34m=\u001b[0m\u001b[0mFLOAT_DTYPES\u001b[0m\u001b[0;34m,\u001b[0m \u001b[0mcopy\u001b[0m\u001b[0;34m=\u001b[0m\u001b[0mcopy\u001b[0m\u001b[0;34m,\u001b[0m \u001b[0mreset\u001b[0m\u001b[0;34m=\u001b[0m\u001b[0;32mFalse\u001b[0m\u001b[0;34m\u001b[0m\u001b[0;34m\u001b[0m\u001b[0m\n\u001b[1;32m   1712\u001b[0m         )\n",
            "\u001b[0;32m/usr/local/lib/python3.10/dist-packages/sklearn/base.py\u001b[0m in \u001b[0;36m_validate_data\u001b[0;34m(self, X, y, reset, validate_separately, **check_params)\u001b[0m\n\u001b[1;32m    563\u001b[0m             \u001b[0;32mraise\u001b[0m \u001b[0mValueError\u001b[0m\u001b[0;34m(\u001b[0m\u001b[0;34m\"Validation should be done on X, y or both.\"\u001b[0m\u001b[0;34m)\u001b[0m\u001b[0;34m\u001b[0m\u001b[0;34m\u001b[0m\u001b[0m\n\u001b[1;32m    564\u001b[0m         \u001b[0;32melif\u001b[0m \u001b[0;32mnot\u001b[0m \u001b[0mno_val_X\u001b[0m \u001b[0;32mand\u001b[0m \u001b[0mno_val_y\u001b[0m\u001b[0;34m:\u001b[0m\u001b[0;34m\u001b[0m\u001b[0;34m\u001b[0m\u001b[0m\n\u001b[0;32m--> 565\u001b[0;31m             \u001b[0mX\u001b[0m \u001b[0;34m=\u001b[0m \u001b[0mcheck_array\u001b[0m\u001b[0;34m(\u001b[0m\u001b[0mX\u001b[0m\u001b[0;34m,\u001b[0m \u001b[0minput_name\u001b[0m\u001b[0;34m=\u001b[0m\u001b[0;34m\"X\"\u001b[0m\u001b[0;34m,\u001b[0m \u001b[0;34m**\u001b[0m\u001b[0mcheck_params\u001b[0m\u001b[0;34m)\u001b[0m\u001b[0;34m\u001b[0m\u001b[0;34m\u001b[0m\u001b[0m\n\u001b[0m\u001b[1;32m    566\u001b[0m             \u001b[0mout\u001b[0m \u001b[0;34m=\u001b[0m \u001b[0mX\u001b[0m\u001b[0;34m\u001b[0m\u001b[0;34m\u001b[0m\u001b[0m\n\u001b[1;32m    567\u001b[0m         \u001b[0;32melif\u001b[0m \u001b[0mno_val_X\u001b[0m \u001b[0;32mand\u001b[0m \u001b[0;32mnot\u001b[0m \u001b[0mno_val_y\u001b[0m\u001b[0;34m:\u001b[0m\u001b[0;34m\u001b[0m\u001b[0;34m\u001b[0m\u001b[0m\n",
            "\u001b[0;32m/usr/local/lib/python3.10/dist-packages/sklearn/utils/validation.py\u001b[0m in \u001b[0;36mcheck_array\u001b[0;34m(array, accept_sparse, accept_large_sparse, dtype, order, copy, force_all_finite, ensure_2d, allow_nd, ensure_min_samples, ensure_min_features, estimator, input_name)\u001b[0m\n\u001b[1;32m    929\u001b[0m         \u001b[0mn_samples\u001b[0m \u001b[0;34m=\u001b[0m \u001b[0m_num_samples\u001b[0m\u001b[0;34m(\u001b[0m\u001b[0marray\u001b[0m\u001b[0;34m)\u001b[0m\u001b[0;34m\u001b[0m\u001b[0;34m\u001b[0m\u001b[0m\n\u001b[1;32m    930\u001b[0m         \u001b[0;32mif\u001b[0m \u001b[0mn_samples\u001b[0m \u001b[0;34m<\u001b[0m \u001b[0mensure_min_samples\u001b[0m\u001b[0;34m:\u001b[0m\u001b[0;34m\u001b[0m\u001b[0;34m\u001b[0m\u001b[0m\n\u001b[0;32m--> 931\u001b[0;31m             raise ValueError(\n\u001b[0m\u001b[1;32m    932\u001b[0m                 \u001b[0;34m\"Found array with %d sample(s) (shape=%s) while a\"\u001b[0m\u001b[0;34m\u001b[0m\u001b[0;34m\u001b[0m\u001b[0m\n\u001b[1;32m    933\u001b[0m                 \u001b[0;34m\" minimum of %d is required%s.\"\u001b[0m\u001b[0;34m\u001b[0m\u001b[0;34m\u001b[0m\u001b[0m\n",
            "\u001b[0;31mValueError\u001b[0m: Found array with 0 sample(s) (shape=(0, 13246)) while a minimum of 1 is required by TfidfTransformer."
          ]
        }
      ]
    },
    {
      "cell_type": "code",
      "source": [
        "import matplotlib.pyplot as plt\n",
        "import itertools\n",
        "def plot_confusion_matrix(cm, classes,\n",
        "                          normalize=False,\n",
        "                          title='Confusion matrix',\n",
        "                              cmap=plt.cm.Blues):\n",
        "\n",
        "    plt.imshow(cm, interpolation='nearest', cmap=cmap)\n",
        "    plt.title(title)\n",
        "    plt.colorbar()\n",
        "    tick_marks = np.arange(len(classes))\n",
        "    plt.xticks(tick_marks, classes, rotation=45)\n",
        "    plt.yticks(tick_marks, classes)\n",
        "\n",
        "    if normalize:\n",
        "        cm = cm.astype('float') / cm.sum(axis=1)[:, np.newaxis]\n",
        "\n",
        "    thresh = cm.max() / 2.\n",
        "    for i, j in itertools.product(range(cm.shape[0]), range(cm.shape[1])):\n",
        "        plt.text(j, i, cm[i, j],\n",
        "                 horizontalalignment=\"center\",\n",
        "                 color=\"white\" if cm[i, j] > thresh else \"black\")\n",
        "\n",
        "    plt.tight_layout()\n",
        "    plt.ylabel('True label')\n",
        "    plt.xlabel('Predicted label')"
      ],
      "metadata": {
        "execution": {
          "iopub.status.busy": "2023-03-06T17:58:01.240584Z",
          "iopub.execute_input": "2023-03-06T17:58:01.242370Z",
          "iopub.status.idle": "2023-03-06T17:58:01.255230Z",
          "shell.execute_reply.started": "2023-03-06T17:58:01.242307Z",
          "shell.execute_reply": "2023-03-06T17:58:01.254098Z"
        },
        "trusted": true,
        "id": "wrSE3lhlJsdv"
      },
      "execution_count": null,
      "outputs": []
    },
    {
      "cell_type": "code",
      "source": [
        "from sklearn.metrics import confusion_matrix\n",
        "CM = confusion_matrix(y_class_test, y_pred)\n",
        "plot_confusion_matrix(CM, classes=['hate', 'not hate']) #wow"
      ],
      "metadata": {
        "execution": {
          "iopub.status.busy": "2023-03-06T17:58:01.256941Z",
          "iopub.execute_input": "2023-03-06T17:58:01.258337Z",
          "iopub.status.idle": "2023-03-06T17:58:01.626576Z",
          "shell.execute_reply.started": "2023-03-06T17:58:01.258280Z",
          "shell.execute_reply": "2023-03-06T17:58:01.625166Z"
        },
        "trusted": true,
        "id": "MVmxDhurJsdv",
        "colab": {
          "base_uri": "https://localhost:8080/",
          "height": 200
        },
        "outputId": "e04d448e-ca92-4a94-804e-41f63bfe50bb"
      },
      "execution_count": null,
      "outputs": [
        {
          "output_type": "error",
          "ename": "NameError",
          "evalue": "ignored",
          "traceback": [
            "\u001b[0;31m---------------------------------------------------------------------------\u001b[0m",
            "\u001b[0;31mNameError\u001b[0m                                 Traceback (most recent call last)",
            "\u001b[0;32m<ipython-input-72-510d1b102e3e>\u001b[0m in \u001b[0;36m<cell line: 3>\u001b[0;34m()\u001b[0m\n\u001b[1;32m      1\u001b[0m \u001b[0;32mfrom\u001b[0m \u001b[0msklearn\u001b[0m\u001b[0;34m.\u001b[0m\u001b[0mmetrics\u001b[0m \u001b[0;32mimport\u001b[0m \u001b[0mconfusion_matrix\u001b[0m\u001b[0;34m\u001b[0m\u001b[0;34m\u001b[0m\u001b[0m\n\u001b[1;32m      2\u001b[0m \u001b[0mCM\u001b[0m \u001b[0;34m=\u001b[0m \u001b[0mconfusion_matrix\u001b[0m\u001b[0;34m(\u001b[0m\u001b[0my_class_test\u001b[0m\u001b[0;34m,\u001b[0m \u001b[0my_pred\u001b[0m\u001b[0;34m)\u001b[0m\u001b[0;34m\u001b[0m\u001b[0;34m\u001b[0m\u001b[0m\n\u001b[0;32m----> 3\u001b[0;31m \u001b[0mplot_confusion_matrix\u001b[0m\u001b[0;34m(\u001b[0m\u001b[0mCM\u001b[0m\u001b[0;34m,\u001b[0m \u001b[0mclasses\u001b[0m\u001b[0;34m=\u001b[0m\u001b[0;34m[\u001b[0m\u001b[0;34m'hate'\u001b[0m\u001b[0;34m,\u001b[0m \u001b[0;34m'not hate'\u001b[0m\u001b[0;34m]\u001b[0m\u001b[0;34m)\u001b[0m \u001b[0;31m#wow\u001b[0m\u001b[0;34m\u001b[0m\u001b[0;34m\u001b[0m\u001b[0m\n\u001b[0m",
            "\u001b[0;31mNameError\u001b[0m: name 'plot_confusion_matrix' is not defined"
          ]
        }
      ]
    },
    {
      "cell_type": "code",
      "source": [
        "from sklearn.ensemble import RandomForestClassifier\n",
        "\n",
        "estimator = RandomForestClassifier()\n",
        "\n",
        "hparams = {\"n_estimators\": [100],\n",
        "           \"criterion\": [\"gini\", \"entropy\", \"log_loss\"],\n",
        "           \"max_features\": [\"sqrt\", \"log2\"]}\n",
        "###from sklearn.model_selection import GridSearchCV\n",
        "###GS_estimator = GridSearchCV(estimator, hparams, cv=5, scoring=\"accuracy\")\n",
        "###GS_estimator.fit(tfidf_train, y_class_train)\n",
        "###print(GS_estimator.best_params_)"
      ],
      "metadata": {
        "id": "iK2iUMImhYRi"
      },
      "execution_count": null,
      "outputs": []
    },
    {
      "cell_type": "code",
      "source": [
        "from sklearn.ensemble import RandomForestClassifier\n",
        "#instantiate instance of own pretrained model\n",
        "rfc = RandomForestClassifier(criterion=\"log_loss\", max_features=\"sqrt\")\n",
        "\n",
        "#trains her pretrained model adapted to her own dataset using transfer learning\n",
        "rfc.fit(tfidf_train, y_class_train)\n",
        "\n",
        "y_pred_rfc = rfc.predict(tfidf_test) #Test or something\n",
        "score_rfc = accuracy_score(y_class_test,y_pred_rfc)\n",
        "print(f'Accuracy: {round(score_rfc*100,2)}%')"
      ],
      "metadata": {
        "id": "5BcNtrYA9Ras",
        "colab": {
          "base_uri": "https://localhost:8080/"
        },
        "outputId": "49fae79c-dc33-40a2-d856-0477c88272f8"
      },
      "execution_count": null,
      "outputs": [
        {
          "output_type": "stream",
          "name": "stdout",
          "text": [
            "Accuracy: 90.78%\n"
          ]
        }
      ]
    },
    {
      "cell_type": "code",
      "source": [
        "y_pred_rfc_hate = rfc.predict(tfidf_test_hate) #Test or something\n",
        "score = accuracy_score(y_class_test_hate, y_pred_rfc_hate)\n",
        "print(f'Accuracy: {round(score*100,2)}%')"
      ],
      "metadata": {
        "colab": {
          "base_uri": "https://localhost:8080/"
        },
        "id": "FOrAGDQl0Vrr",
        "outputId": "3bf37be6-2291-421d-998e-ab69b0d619a5"
      },
      "execution_count": null,
      "outputs": [
        {
          "output_type": "stream",
          "name": "stdout",
          "text": [
            "Accuracy: 93.73%\n"
          ]
        }
      ]
    },
    {
      "cell_type": "code",
      "source": [
        "#eda\n",
        "y_pred = rfc.predict(tfidf_test_hate)\n",
        "\n",
        "score = accuracy_score(hate_class,y_pred)\n",
        "print(f'% of Predicted Hate still being Predicted as Hate (RFC): {round(score*100,2)}%')\n",
        "\n",
        "#word embedding\n",
        "y_pred_2 = rfc.predict(tfidf_test_hate_2)\n",
        "\n",
        "score = accuracy_score(hate_class, y_pred_2)\n",
        "print(f'% of Predicted Hate still being Predicted as Hate (RFC): {round(score*100,2)}%')"
      ],
      "metadata": {
        "id": "6lZZ1SyPKWhv"
      },
      "execution_count": null,
      "outputs": []
    },
    {
      "cell_type": "code",
      "source": [
        "from sklearn.metrics import confusion_matrix\n",
        "CM = confusion_matrix(y_class_test, y_pred_rfc)\n",
        "plot_confusion_matrix(CM, classes=['hate', 'not hate']) #wow"
      ],
      "metadata": {
        "id": "RzNlSLMncVU1",
        "colab": {
          "base_uri": "https://localhost:8080/",
          "height": 200
        },
        "outputId": "adf9849c-27be-4ede-8061-847ce2a966b1"
      },
      "execution_count": null,
      "outputs": [
        {
          "output_type": "error",
          "ename": "NameError",
          "evalue": "ignored",
          "traceback": [
            "\u001b[0;31m---------------------------------------------------------------------------\u001b[0m",
            "\u001b[0;31mNameError\u001b[0m                                 Traceback (most recent call last)",
            "\u001b[0;32m<ipython-input-78-d1533caba043>\u001b[0m in \u001b[0;36m<cell line: 3>\u001b[0;34m()\u001b[0m\n\u001b[1;32m      1\u001b[0m \u001b[0;32mfrom\u001b[0m \u001b[0msklearn\u001b[0m\u001b[0;34m.\u001b[0m\u001b[0mmetrics\u001b[0m \u001b[0;32mimport\u001b[0m \u001b[0mconfusion_matrix\u001b[0m\u001b[0;34m\u001b[0m\u001b[0;34m\u001b[0m\u001b[0m\n\u001b[1;32m      2\u001b[0m \u001b[0mCM\u001b[0m \u001b[0;34m=\u001b[0m \u001b[0mconfusion_matrix\u001b[0m\u001b[0;34m(\u001b[0m\u001b[0my_class_test\u001b[0m\u001b[0;34m,\u001b[0m \u001b[0my_pred_rfc\u001b[0m\u001b[0;34m)\u001b[0m\u001b[0;34m\u001b[0m\u001b[0;34m\u001b[0m\u001b[0m\n\u001b[0;32m----> 3\u001b[0;31m \u001b[0mplot_confusion_matrix\u001b[0m\u001b[0;34m(\u001b[0m\u001b[0mCM\u001b[0m\u001b[0;34m,\u001b[0m \u001b[0mclasses\u001b[0m\u001b[0;34m=\u001b[0m\u001b[0;34m[\u001b[0m\u001b[0;34m'hate'\u001b[0m\u001b[0;34m,\u001b[0m \u001b[0;34m'not hate'\u001b[0m\u001b[0;34m]\u001b[0m\u001b[0;34m)\u001b[0m \u001b[0;31m#wow\u001b[0m\u001b[0;34m\u001b[0m\u001b[0;34m\u001b[0m\u001b[0m\n\u001b[0m",
            "\u001b[0;31mNameError\u001b[0m: name 'plot_confusion_matrix' is not defined"
          ]
        }
      ]
    },
    {
      "cell_type": "code",
      "source": [
        "from sklearn.neural_network import MLPClassifier\n",
        "estimator = MLPClassifier()\n",
        "\n",
        "hparams = {\"hidden_layer_sizes\": [64, 100],\n",
        "           \"activation\": [\"logistic\", \"tanh\", \"relu\"],\n",
        "           \"learning_rate\": [\"constant\", \"invscaling\", \"adaptive\"]}\n",
        "###from sklearn.model_selection import GridSearchCV\n",
        "###GS_estimator = GridSearchCV(estimator, hparams, cv=5, scoring=\"accuracy\")\n",
        "###GS_estimator.fit(tfidf_train, y_class_train)\n",
        "###print(GS_estimator.best_params_)"
      ],
      "metadata": {
        "id": "hJewa-38FNmn"
      },
      "execution_count": null,
      "outputs": []
    },
    {
      "cell_type": "code",
      "source": [
        "mlp = MLPClassifier(hidden_layer_sizes=100, activation='logistic', learning_rate='adaptive')\n",
        "\n",
        "mlp.fit(tfidf_train, y_class_train)\n",
        "\n",
        "y_pred_mlp = mlp.predict(tfidf_test)\n",
        "score_mlp = accuracy_score(y_class_test,y_pred_mlp)\n",
        "print(f'Accuracy: {round(score_mlp*100,2)}%')"
      ],
      "metadata": {
        "id": "EkKd6a1rrHpx",
        "colab": {
          "base_uri": "https://localhost:8080/"
        },
        "outputId": "29fa0883-e281-4826-b01e-59a1afd3e30e"
      },
      "execution_count": null,
      "outputs": [
        {
          "output_type": "stream",
          "name": "stdout",
          "text": [
            "Accuracy: 91.4%\n"
          ]
        }
      ]
    },
    {
      "cell_type": "code",
      "source": [
        "y_pred_mlp_hate = mlp.predict(tfidf_test_hate)\n",
        "score_mlp = accuracy_score(y_class_test_hate, y_pred_mlp_hate)\n",
        "print(f'Accuracy: {round(score_mlp*100,2)}%')"
      ],
      "metadata": {
        "colab": {
          "base_uri": "https://localhost:8080/"
        },
        "id": "NcsUiNLi0yLW",
        "outputId": "9b90a2a4-bab9-42bd-a5e1-ef5eb719cd8c"
      },
      "execution_count": null,
      "outputs": [
        {
          "output_type": "stream",
          "name": "stdout",
          "text": [
            "Accuracy: 90.73%\n"
          ]
        }
      ]
    },
    {
      "cell_type": "code",
      "source": [
        "#eda\n",
        "y_pred = mlp.predict(tfidf_test_hate)\n",
        "\n",
        "score = accuracy_score(hate_class,y_pred)\n",
        "print(f'% of Predicted Hate still being Predicted as Hate (MLP): {round(score*100,2)}%')\n",
        "\n",
        "#word embedding\n",
        "y_pred_2 = mlp.predict(tfidf_test_hate_2)\n",
        "\n",
        "score = accuracy_score(hate_class, y_pred_2)\n",
        "print(f'% of Predicted Hate still being Predicted as Hate (MLP): {round(score*100,2)}%')"
      ],
      "metadata": {
        "id": "WgJPT1QzKdzu"
      },
      "execution_count": null,
      "outputs": []
    },
    {
      "cell_type": "code",
      "source": [
        "from sklearn.metrics import confusion_matrix\n",
        "CM = confusion_matrix(y_class_test, y_pred_mlp)\n",
        "plot_confusion_matrix(CM, classes=['hate', 'not hate']) #wow"
      ],
      "metadata": {
        "id": "sBConBs2cfgE"
      },
      "execution_count": null,
      "outputs": []
    },
    {
      "cell_type": "code",
      "source": [
        "test_input = ['you suck']\n",
        "tfidf_test_input = tfidf_vectorizer.transform(test_input)\n",
        "\n",
        "test_prediction1 = pac.predict(tfidf_test_input)\n",
        "print(\"pac: \", test_prediction1)\n",
        "\n",
        "if test_prediction1[0] == 0:\n",
        "    print(\"pac: hate\")\n",
        "elif test_prediction1[0] == 1:\n",
        "    print(\"pac: offensive\")\n",
        "else:\n",
        "    print(\"pac: nah\")\n",
        "    \n",
        "\n",
        "test2_prediction1 = mnb.predict(tfidf_test_input)\n",
        "print(\"mnb: \", test2_prediction1)\n",
        "\n",
        "if test2_prediction1[0] == 0:\n",
        "    print(\"mnb: hate\")\n",
        "elif test2_prediction1[0] == 1:\n",
        "    print(\"mnb: offensive\")\n",
        "else:\n",
        "    print(\"mnb: nah\")"
      ],
      "metadata": {
        "execution": {
          "iopub.status.busy": "2023-03-06T17:58:01.985150Z",
          "iopub.execute_input": "2023-03-06T17:58:01.985502Z",
          "iopub.status.idle": "2023-03-06T17:58:01.998674Z",
          "shell.execute_reply.started": "2023-03-06T17:58:01.985467Z",
          "shell.execute_reply": "2023-03-06T17:58:01.997285Z"
        },
        "trusted": true,
        "id": "rVA6Thp8Jsdv"
      },
      "execution_count": null,
      "outputs": []
    },
    {
      "cell_type": "code",
      "source": [
        "test_input = ['you big idiot know nothing useful u asshole']\n",
        "\n",
        "\n",
        "tfidf_test_input = tfidf_vectorizer.transform(test_input)\n",
        "\n",
        "test_prediction2 = pac.predict(tfidf_test_input)\n",
        "print(\"pac: \", test_prediction2)\n",
        "\n",
        "if test_prediction2[0] == 0:\n",
        "    print(\"pac: hate\")\n",
        "elif test_prediction2[0] == 1:\n",
        "    print(\"pac: offensive\")\n",
        "else:\n",
        "    print(\"pac: nah\")\n",
        "    \n",
        "    \n",
        "test2_prediction2 = mnb.predict(tfidf_test_input)\n",
        "print(\"mnb: \", test2_prediction2)\n",
        "\n",
        "if test2_prediction2[0] == 0:\n",
        "    print(\"mnb: hate\")\n",
        "elif test2_prediction2[0] == 1:\n",
        "    print(\"mnb: offensive\")\n",
        "else:\n",
        "    print(\"mnb: nah\")"
      ],
      "metadata": {
        "execution": {
          "iopub.status.busy": "2023-03-06T17:58:02.000198Z",
          "iopub.execute_input": "2023-03-06T17:58:02.001100Z",
          "iopub.status.idle": "2023-03-06T17:58:02.012936Z",
          "shell.execute_reply.started": "2023-03-06T17:58:02.001052Z",
          "shell.execute_reply": "2023-03-06T17:58:02.011629Z"
        },
        "trusted": true,
        "id": "ntLSbOMnJsdv"
      },
      "execution_count": null,
      "outputs": []
    },
    {
      "cell_type": "code",
      "source": [
        "test_input = ['you']\n",
        "\n",
        "\n",
        "tfidf_test_input = tfidf_vectorizer.transform(test_input)\n",
        "\n",
        "test_prediction3 = pac.predict(tfidf_test_input)\n",
        "print(\"pac: \", test_prediction3)\n",
        "\n",
        "if test_prediction3[0] == 0:\n",
        "    print(\"pac: hate\")\n",
        "elif test_prediction3[0] == 1:\n",
        "    print(\"pac: offensive\")\n",
        "else:\n",
        "    print(\"pac: nah\")\n",
        "    \n",
        "    \n",
        "test2_prediction3 = mnb.predict(tfidf_test_input)\n",
        "print(\"mnb: \", test2_prediction3)\n",
        "\n",
        "if test2_prediction3[0] == 0:\n",
        "    print(\"mnb: hate\")\n",
        "elif test2_prediction3[0] == 1:\n",
        "    print(\"mnb: offensive\")\n",
        "else:\n",
        "    print(\"mnb: nah\")"
      ],
      "metadata": {
        "execution": {
          "iopub.status.busy": "2023-03-06T17:58:02.014421Z",
          "iopub.execute_input": "2023-03-06T17:58:02.015181Z",
          "iopub.status.idle": "2023-03-06T17:58:02.033536Z",
          "shell.execute_reply.started": "2023-03-06T17:58:02.015143Z",
          "shell.execute_reply": "2023-03-06T17:58:02.032050Z"
        },
        "trusted": true,
        "id": "dB-HDvVyJsdw"
      },
      "execution_count": null,
      "outputs": []
    },
    {
      "cell_type": "code",
      "source": [
        "test_input = ['you are nice']\n",
        "\n",
        "\n",
        "tfidf_test_input = tfidf_vectorizer.transform(test_input)\n",
        "\n",
        "test_prediction4 = pac.predict(tfidf_test_input)\n",
        "print(\"pac: \", test_prediction4)\n",
        "\n",
        "if test_prediction4[0] == 0:\n",
        "    print(\"pac: hate\")\n",
        "elif test_prediction4[0] == 1:\n",
        "    print(\"pac: offensive\")\n",
        "else:\n",
        "    print(\"pac: nah\")\n",
        "    \n",
        "test2_prediction4 = mnb.predict(tfidf_test_input)\n",
        "print(\"mnb: \", test2_prediction4)\n",
        "\n",
        "if test2_prediction4[0] == 0:\n",
        "    print(\"mnb: hate\")\n",
        "elif test2_prediction4[0] == 1:\n",
        "    print(\"mnb: offensive\")\n",
        "else:\n",
        "    print(\"mnb: nah\")"
      ],
      "metadata": {
        "execution": {
          "iopub.status.busy": "2023-03-06T17:58:02.035207Z",
          "iopub.execute_input": "2023-03-06T17:58:02.035888Z",
          "iopub.status.idle": "2023-03-06T17:58:02.049035Z",
          "shell.execute_reply.started": "2023-03-06T17:58:02.035832Z",
          "shell.execute_reply": "2023-03-06T17:58:02.047582Z"
        },
        "trusted": true,
        "id": "fZfYz3iGJsdw"
      },
      "execution_count": null,
      "outputs": []
    },
    {
      "cell_type": "code",
      "source": [
        "test_input = [\"you bitch\"]\n",
        "\n",
        "\n",
        "tfidf_test_input = tfidf_vectorizer.transform(test_input)\n",
        "\n",
        "test_prediction5 = pac.predict(tfidf_test_input)\n",
        "print(\"pac: \", test_prediction5)\n",
        "\n",
        "if test_prediction5[0] == 0:\n",
        "    print(\"pac: hate\")\n",
        "elif test_prediction5[0] == 1:\n",
        "    print(\"pac: offensive\")\n",
        "else:\n",
        "    print(\"pac: nah\")\n",
        "    \n",
        "    \n",
        "test2_prediction5 = mnb.predict(tfidf_test_input)\n",
        "print(\"mnb: \", test2_prediction5)\n",
        "\n",
        "if test2_prediction5[0] == 0:\n",
        "    print(\"mnb: hate\")\n",
        "elif test2_prediction5[0] == 1:\n",
        "    print(\"mnb: offensive\")\n",
        "else:\n",
        "    print(\"mnb: nah\")"
      ],
      "metadata": {
        "execution": {
          "iopub.status.busy": "2023-03-06T17:58:02.053022Z",
          "iopub.execute_input": "2023-03-06T17:58:02.053640Z",
          "iopub.status.idle": "2023-03-06T17:58:02.066744Z",
          "shell.execute_reply.started": "2023-03-06T17:58:02.053586Z",
          "shell.execute_reply": "2023-03-06T17:58:02.065606Z"
        },
        "trusted": true,
        "id": "olnQq74uJsdw"
      },
      "execution_count": null,
      "outputs": []
    },
    {
      "cell_type": "code",
      "source": [
        "test_input = ['you have an ugly face']\n",
        "\n",
        "\n",
        "tfidf_test_input = tfidf_vectorizer.transform(test_input)\n",
        "\n",
        "test_prediction6 = pac.predict(tfidf_test_input)\n",
        "print(\"pac: \", test_prediction6)\n",
        "\n",
        "if test_prediction6[0] == 0:\n",
        "    print(\"pac: hate\")\n",
        "elif test_prediction6[0] == 1:\n",
        "    print(\"pac: offensive\")\n",
        "else:\n",
        "    print(\"pac: nah\")\n",
        "    \n",
        "    \n",
        "test2_prediction6 = mnb.predict(tfidf_test_input)\n",
        "print(\"mnb: \", test2_prediction6)\n",
        "\n",
        "if test2_prediction6[0] == 0:\n",
        "    print(\"mnb: hate\")\n",
        "elif test2_prediction6[0] == 1:\n",
        "    print(\"mnb: offensive\")\n",
        "else:\n",
        "    print(\"mnb: nah\")"
      ],
      "metadata": {
        "execution": {
          "iopub.status.busy": "2023-03-06T17:58:02.067945Z",
          "iopub.execute_input": "2023-03-06T17:58:02.069182Z",
          "iopub.status.idle": "2023-03-06T17:58:02.083689Z",
          "shell.execute_reply.started": "2023-03-06T17:58:02.069140Z",
          "shell.execute_reply": "2023-03-06T17:58:02.082739Z"
        },
        "trusted": true,
        "id": "YOp6G6fAJsdw"
      },
      "execution_count": null,
      "outputs": []
    },
    {
      "cell_type": "code",
      "source": [
        "##past attempts\n",
        "#from sklearn.tree import DecisionTreeClassifier\n",
        "\n",
        "#clf = DecisionTreeClassifier()\n",
        "#clf.fit(x_tweet_train, y_class_train)\n",
        "#Accuracy = clf.score(x_tweet_test, y_class_test)\n",
        "#print(Accuracy*100)"
      ],
      "metadata": {
        "execution": {
          "iopub.status.busy": "2023-03-06T17:58:02.085147Z",
          "iopub.execute_input": "2023-03-06T17:58:02.085715Z",
          "iopub.status.idle": "2023-03-06T17:58:02.092854Z",
          "shell.execute_reply.started": "2023-03-06T17:58:02.085680Z",
          "shell.execute_reply": "2023-03-06T17:58:02.091437Z"
        },
        "trusted": true,
        "id": "V88x3vljJsdw"
      },
      "execution_count": null,
      "outputs": []
    }
  ]
}